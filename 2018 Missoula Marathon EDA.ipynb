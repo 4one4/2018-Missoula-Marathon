{
 "cells": [
  {
   "cell_type": "code",
   "execution_count": 1,
   "metadata": {},
   "outputs": [],
   "source": [
    "import pandas as pd\n",
    "import numpy as np\n",
    "import matplotlib.pyplot as plt\n",
    "\n",
    "%matplotlib inline"
   ]
  },
  {
   "cell_type": "code",
   "execution_count": 2,
   "metadata": {},
   "outputs": [],
   "source": [
    "#read in our data\n",
    "df_full = pd.read_csv('data/2018_missoula_marathon_full.csv')\n",
    "df_half = pd.read_csv('data/2018_missoula_marathon_half.csv')"
   ]
  },
  {
   "cell_type": "markdown",
   "metadata": {},
   "source": [
    "### Cleaning & Wrangling"
   ]
  },
  {
   "cell_type": "code",
   "execution_count": 3,
   "metadata": {
    "scrolled": true
   },
   "outputs": [
    {
     "name": "stdout",
     "output_type": "stream",
     "text": [
      "<class 'pandas.core.frame.DataFrame'>\n",
      "RangeIndex: 1034 entries, 0 to 1033\n",
      "Data columns (total 12 columns):\n",
      "Place        1034 non-null int64\n",
      "Name         1034 non-null object\n",
      "City         1012 non-null object\n",
      "Bib_No       1034 non-null int64\n",
      "Age          1034 non-null int64\n",
      "Gender       1034 non-null object\n",
      "Age_Group    1034 non-null object\n",
      "Chip_Time    1034 non-null object\n",
      "Gun_Time     1034 non-null object\n",
      "Chip_Diff    1028 non-null object\n",
      "Pace         1034 non-null object\n",
      "Race         1034 non-null object\n",
      "dtypes: int64(3), object(9)\n",
      "memory usage: 97.0+ KB\n"
     ]
    }
   ],
   "source": [
    "df_full.info()"
   ]
  },
  {
   "cell_type": "code",
   "execution_count": 4,
   "metadata": {},
   "outputs": [
    {
     "name": "stdout",
     "output_type": "stream",
     "text": [
      "<class 'pandas.core.frame.DataFrame'>\n",
      "RangeIndex: 2659 entries, 0 to 2658\n",
      "Data columns (total 12 columns):\n",
      "Place        2659 non-null int64\n",
      "Name         2659 non-null object\n",
      "City         2645 non-null object\n",
      "Bib_No       2659 non-null int64\n",
      "Age          2658 non-null float64\n",
      "Gender       2659 non-null object\n",
      "Age_Group    2659 non-null object\n",
      "Chip_Time    2659 non-null object\n",
      "Gun_Time     2659 non-null object\n",
      "Chip_Diff    2647 non-null object\n",
      "Pace         2659 non-null object\n",
      "Race         2659 non-null object\n",
      "dtypes: float64(1), int64(2), object(9)\n",
      "memory usage: 249.4+ KB\n"
     ]
    }
   ],
   "source": [
    "df_half.info()"
   ]
  },
  {
   "cell_type": "markdown",
   "metadata": {},
   "source": [
    "Looking at the info, it appears that we have issues with missing 'City' fields and missingt 'Chip_Diff' fields.\n",
    "\n",
    "All missing 'City' entries are for race pacers. Let's make an assumption that they are all from Missoula. The missing 'Chip_Diff' entries occur when the chip time and the gun time are the same, so let's replace those with zeros.\n",
    "\n",
    "There's one more issue to deal with. We're missing an age for one male half marathon runner (bib number 9384). That runner is listed as 'Unknown Participant' and is missing other details as well. Let's drop that record."
   ]
  },
  {
   "cell_type": "code",
   "execution_count": 5,
   "metadata": {},
   "outputs": [
    {
     "name": "stdout",
     "output_type": "stream",
     "text": [
      "<class 'pandas.core.frame.DataFrame'>\n",
      "Int64Index: 2658 entries, 0 to 2658\n",
      "Data columns (total 12 columns):\n",
      "Place        2658 non-null int64\n",
      "Name         2658 non-null object\n",
      "City         2645 non-null object\n",
      "Bib_No       2658 non-null int64\n",
      "Age          2658 non-null float64\n",
      "Gender       2658 non-null object\n",
      "Age_Group    2658 non-null object\n",
      "Chip_Time    2658 non-null object\n",
      "Gun_Time     2658 non-null object\n",
      "Chip_Diff    2646 non-null object\n",
      "Pace         2658 non-null object\n",
      "Race         2658 non-null object\n",
      "dtypes: float64(1), int64(2), object(9)\n",
      "memory usage: 270.0+ KB\n"
     ]
    }
   ],
   "source": [
    "#first let's drop our rogue runner\n",
    "df_half = df_half[df_half.Bib_No != 9384]\n",
    "df_half.info()"
   ]
  },
  {
   "cell_type": "code",
   "execution_count": 6,
   "metadata": {},
   "outputs": [
    {
     "data": {
      "text/html": [
       "<div>\n",
       "<style scoped>\n",
       "    .dataframe tbody tr th:only-of-type {\n",
       "        vertical-align: middle;\n",
       "    }\n",
       "\n",
       "    .dataframe tbody tr th {\n",
       "        vertical-align: top;\n",
       "    }\n",
       "\n",
       "    .dataframe thead th {\n",
       "        text-align: right;\n",
       "    }\n",
       "</style>\n",
       "<table border=\"1\" class=\"dataframe\">\n",
       "  <thead>\n",
       "    <tr style=\"text-align: right;\">\n",
       "      <th></th>\n",
       "      <th>Place</th>\n",
       "      <th>Name</th>\n",
       "      <th>City</th>\n",
       "      <th>Bib_No</th>\n",
       "      <th>Age</th>\n",
       "      <th>Gender</th>\n",
       "      <th>Age_Group</th>\n",
       "      <th>Chip_Time</th>\n",
       "      <th>Gun_Time</th>\n",
       "      <th>Chip_Diff</th>\n",
       "      <th>Pace</th>\n",
       "      <th>Race</th>\n",
       "    </tr>\n",
       "  </thead>\n",
       "  <tbody>\n",
       "    <tr>\n",
       "      <th>87</th>\n",
       "      <td>88</td>\n",
       "      <td>Kate Johnson - Pacer</td>\n",
       "      <td>NaN</td>\n",
       "      <td>3400</td>\n",
       "      <td>26.0</td>\n",
       "      <td>F</td>\n",
       "      <td>14/201:25-29</td>\n",
       "      <td>1:45:16.99</td>\n",
       "      <td>1:45:26.48</td>\n",
       "      <td>0:09.49</td>\n",
       "      <td>8:02/M</td>\n",
       "      <td>half</td>\n",
       "    </tr>\n",
       "    <tr>\n",
       "      <th>519</th>\n",
       "      <td>520</td>\n",
       "      <td>Ilana Abrahamson -Pacer</td>\n",
       "      <td>NaN</td>\n",
       "      <td>2107</td>\n",
       "      <td>42.0</td>\n",
       "      <td>F</td>\n",
       "      <td>68/211:40-44</td>\n",
       "      <td>2:09:46.25</td>\n",
       "      <td>2:10:25.72</td>\n",
       "      <td>0:39.47</td>\n",
       "      <td>9:54/M</td>\n",
       "      <td>half</td>\n",
       "    </tr>\n",
       "    <tr>\n",
       "      <th>520</th>\n",
       "      <td>521</td>\n",
       "      <td>Sara McAllister - Pacer</td>\n",
       "      <td>NaN</td>\n",
       "      <td>3819</td>\n",
       "      <td>35.0</td>\n",
       "      <td>F</td>\n",
       "      <td>103/293:35-39</td>\n",
       "      <td>2:09:46.70</td>\n",
       "      <td>2:10:26.13</td>\n",
       "      <td>0:39.43</td>\n",
       "      <td>9:54/M</td>\n",
       "      <td>half</td>\n",
       "    </tr>\n",
       "    <tr>\n",
       "      <th>630</th>\n",
       "      <td>631</td>\n",
       "      <td>Rachel Toor - Pacer</td>\n",
       "      <td>NaN</td>\n",
       "      <td>7029</td>\n",
       "      <td>56.0</td>\n",
       "      <td>F</td>\n",
       "      <td>24/152:55-59</td>\n",
       "      <td>2:14:36.70</td>\n",
       "      <td>2:15:48.73</td>\n",
       "      <td>1:12.03</td>\n",
       "      <td>10:16/M</td>\n",
       "      <td>half</td>\n",
       "    </tr>\n",
       "    <tr>\n",
       "      <th>943</th>\n",
       "      <td>944</td>\n",
       "      <td>Theneshia Glaze - Pacer</td>\n",
       "      <td>NaN</td>\n",
       "      <td>3011</td>\n",
       "      <td>41.0</td>\n",
       "      <td>F</td>\n",
       "      <td>117/211:40-44</td>\n",
       "      <td>2:29:50.89</td>\n",
       "      <td>2:31:52.41</td>\n",
       "      <td>2:01.52</td>\n",
       "      <td>11:26/M</td>\n",
       "      <td>half</td>\n",
       "    </tr>\n",
       "    <tr>\n",
       "      <th>978</th>\n",
       "      <td>979</td>\n",
       "      <td>Rebecca Garner -Pacer</td>\n",
       "      <td>NaN</td>\n",
       "      <td>2971</td>\n",
       "      <td>52.0</td>\n",
       "      <td>F</td>\n",
       "      <td>68/173:50-54</td>\n",
       "      <td>2:31:05.50</td>\n",
       "      <td>2:33:06.82</td>\n",
       "      <td>2:01.32</td>\n",
       "      <td>11:32/M</td>\n",
       "      <td>half</td>\n",
       "    </tr>\n",
       "    <tr>\n",
       "      <th>1903</th>\n",
       "      <td>51</td>\n",
       "      <td>Dillon May - Pacer</td>\n",
       "      <td>NaN</td>\n",
       "      <td>3809</td>\n",
       "      <td>21.0</td>\n",
       "      <td>M</td>\n",
       "      <td>12/32:20-24</td>\n",
       "      <td>1:29:38.56</td>\n",
       "      <td>1:29:42.16</td>\n",
       "      <td>0:03.60</td>\n",
       "      <td>6:51/M</td>\n",
       "      <td>half</td>\n",
       "    </tr>\n",
       "    <tr>\n",
       "      <th>1904</th>\n",
       "      <td>52</td>\n",
       "      <td>Nicolas Composto -Pacer</td>\n",
       "      <td>NaN</td>\n",
       "      <td>2578</td>\n",
       "      <td>25.0</td>\n",
       "      <td>M</td>\n",
       "      <td>5/68:25-29</td>\n",
       "      <td>1:29:38.79</td>\n",
       "      <td>1:29:42.21</td>\n",
       "      <td>0:03.42</td>\n",
       "      <td>6:51/M</td>\n",
       "      <td>half</td>\n",
       "    </tr>\n",
       "    <tr>\n",
       "      <th>1997</th>\n",
       "      <td>145</td>\n",
       "      <td>Scott Davis - Pacer</td>\n",
       "      <td>NaN</td>\n",
       "      <td>2689</td>\n",
       "      <td>26.0</td>\n",
       "      <td>M</td>\n",
       "      <td>15/68:25-29</td>\n",
       "      <td>1:45:17.19</td>\n",
       "      <td>1:45:26.60</td>\n",
       "      <td>0:09.41</td>\n",
       "      <td>8:02/M</td>\n",
       "      <td>half</td>\n",
       "    </tr>\n",
       "    <tr>\n",
       "      <th>2184</th>\n",
       "      <td>332</td>\n",
       "      <td>Danny Tenenbaum - Pacer</td>\n",
       "      <td>NaN</td>\n",
       "      <td>4799</td>\n",
       "      <td>32.0</td>\n",
       "      <td>M</td>\n",
       "      <td>56/97:30-34</td>\n",
       "      <td>2:00:16.96</td>\n",
       "      <td>2:00:39.64</td>\n",
       "      <td>0:22.68</td>\n",
       "      <td>9:11/M</td>\n",
       "      <td>half</td>\n",
       "    </tr>\n",
       "    <tr>\n",
       "      <th>2185</th>\n",
       "      <td>333</td>\n",
       "      <td>David Schmetterling -Pacer</td>\n",
       "      <td>NaN</td>\n",
       "      <td>4529</td>\n",
       "      <td>46.0</td>\n",
       "      <td>M</td>\n",
       "      <td>34/91:45-49</td>\n",
       "      <td>2:00:17.55</td>\n",
       "      <td>2:00:40.14</td>\n",
       "      <td>0:22.59</td>\n",
       "      <td>9:11/M</td>\n",
       "      <td>half</td>\n",
       "    </tr>\n",
       "    <tr>\n",
       "      <th>2319</th>\n",
       "      <td>467</td>\n",
       "      <td>Vo Von Sehlen - Pacer</td>\n",
       "      <td>NaN</td>\n",
       "      <td>7031</td>\n",
       "      <td>53.0</td>\n",
       "      <td>M</td>\n",
       "      <td>39/69:50-54</td>\n",
       "      <td>2:14:34.52</td>\n",
       "      <td>2:15:49.42</td>\n",
       "      <td>1:14.90</td>\n",
       "      <td>10:16/M</td>\n",
       "      <td>half</td>\n",
       "    </tr>\n",
       "    <tr>\n",
       "      <th>2341</th>\n",
       "      <td>489</td>\n",
       "      <td>Keith Fichtner - Pacer</td>\n",
       "      <td>NaN</td>\n",
       "      <td>2886</td>\n",
       "      <td>42.0</td>\n",
       "      <td>M</td>\n",
       "      <td>53/84:40-44</td>\n",
       "      <td>2:17:38.43</td>\n",
       "      <td>2:19:03.49</td>\n",
       "      <td>1:25.06</td>\n",
       "      <td>10:30/M</td>\n",
       "      <td>half</td>\n",
       "    </tr>\n",
       "  </tbody>\n",
       "</table>\n",
       "</div>"
      ],
      "text/plain": [
       "      Place                        Name City  Bib_No   Age Gender  \\\n",
       "87       88        Kate Johnson - Pacer  NaN    3400  26.0      F   \n",
       "519     520     Ilana Abrahamson -Pacer  NaN    2107  42.0      F   \n",
       "520     521     Sara McAllister - Pacer  NaN    3819  35.0      F   \n",
       "630     631         Rachel Toor - Pacer  NaN    7029  56.0      F   \n",
       "943     944     Theneshia Glaze - Pacer  NaN    3011  41.0      F   \n",
       "978     979       Rebecca Garner -Pacer  NaN    2971  52.0      F   \n",
       "1903     51          Dillon May - Pacer  NaN    3809  21.0      M   \n",
       "1904     52     Nicolas Composto -Pacer  NaN    2578  25.0      M   \n",
       "1997    145         Scott Davis - Pacer  NaN    2689  26.0      M   \n",
       "2184    332     Danny Tenenbaum - Pacer  NaN    4799  32.0      M   \n",
       "2185    333  David Schmetterling -Pacer  NaN    4529  46.0      M   \n",
       "2319    467       Vo Von Sehlen - Pacer  NaN    7031  53.0      M   \n",
       "2341    489      Keith Fichtner - Pacer  NaN    2886  42.0      M   \n",
       "\n",
       "          Age_Group    Chip_Time    Gun_Time Chip_Diff     Pace  Race  \n",
       "87     14/201:25-29   1:45:16.99  1:45:26.48   0:09.49   8:02/M  half  \n",
       "519    68/211:40-44   2:09:46.25  2:10:25.72   0:39.47   9:54/M  half  \n",
       "520   103/293:35-39   2:09:46.70  2:10:26.13   0:39.43   9:54/M  half  \n",
       "630    24/152:55-59   2:14:36.70  2:15:48.73   1:12.03  10:16/M  half  \n",
       "943   117/211:40-44   2:29:50.89  2:31:52.41   2:01.52  11:26/M  half  \n",
       "978    68/173:50-54   2:31:05.50  2:33:06.82   2:01.32  11:32/M  half  \n",
       "1903    12/32:20-24   1:29:38.56  1:29:42.16   0:03.60   6:51/M  half  \n",
       "1904     5/68:25-29   1:29:38.79  1:29:42.21   0:03.42   6:51/M  half  \n",
       "1997    15/68:25-29   1:45:17.19  1:45:26.60   0:09.41   8:02/M  half  \n",
       "2184    56/97:30-34   2:00:16.96  2:00:39.64   0:22.68   9:11/M  half  \n",
       "2185    34/91:45-49   2:00:17.55  2:00:40.14   0:22.59   9:11/M  half  \n",
       "2319    39/69:50-54   2:14:34.52  2:15:49.42   1:14.90  10:16/M  half  \n",
       "2341    53/84:40-44   2:17:38.43  2:19:03.49   1:25.06  10:30/M  half  "
      ]
     },
     "execution_count": 6,
     "metadata": {},
     "output_type": "execute_result"
    }
   ],
   "source": [
    "df_half[df_half.City.isna()]"
   ]
  },
  {
   "cell_type": "code",
   "execution_count": 7,
   "metadata": {},
   "outputs": [],
   "source": [
    "df_half.City = df_half.City.fillna('Missoula  MT US')"
   ]
  },
  {
   "cell_type": "code",
   "execution_count": 8,
   "metadata": {},
   "outputs": [
    {
     "data": {
      "text/html": [
       "<div>\n",
       "<style scoped>\n",
       "    .dataframe tbody tr th:only-of-type {\n",
       "        vertical-align: middle;\n",
       "    }\n",
       "\n",
       "    .dataframe tbody tr th {\n",
       "        vertical-align: top;\n",
       "    }\n",
       "\n",
       "    .dataframe thead th {\n",
       "        text-align: right;\n",
       "    }\n",
       "</style>\n",
       "<table border=\"1\" class=\"dataframe\">\n",
       "  <thead>\n",
       "    <tr style=\"text-align: right;\">\n",
       "      <th></th>\n",
       "      <th>Place</th>\n",
       "      <th>Name</th>\n",
       "      <th>City</th>\n",
       "      <th>Bib_No</th>\n",
       "      <th>Age</th>\n",
       "      <th>Gender</th>\n",
       "      <th>Age_Group</th>\n",
       "      <th>Chip_Time</th>\n",
       "      <th>Gun_Time</th>\n",
       "      <th>Chip_Diff</th>\n",
       "      <th>Pace</th>\n",
       "      <th>Race</th>\n",
       "    </tr>\n",
       "  </thead>\n",
       "  <tbody>\n",
       "  </tbody>\n",
       "</table>\n",
       "</div>"
      ],
      "text/plain": [
       "Empty DataFrame\n",
       "Columns: [Place, Name, City, Bib_No, Age, Gender, Age_Group, Chip_Time, Gun_Time, Chip_Diff, Pace, Race]\n",
       "Index: []"
      ]
     },
     "execution_count": 8,
     "metadata": {},
     "output_type": "execute_result"
    }
   ],
   "source": [
    "df_half[df_half.City.isna()]"
   ]
  },
  {
   "cell_type": "code",
   "execution_count": 9,
   "metadata": {},
   "outputs": [
    {
     "data": {
      "text/html": [
       "<div>\n",
       "<style scoped>\n",
       "    .dataframe tbody tr th:only-of-type {\n",
       "        vertical-align: middle;\n",
       "    }\n",
       "\n",
       "    .dataframe tbody tr th {\n",
       "        vertical-align: top;\n",
       "    }\n",
       "\n",
       "    .dataframe thead th {\n",
       "        text-align: right;\n",
       "    }\n",
       "</style>\n",
       "<table border=\"1\" class=\"dataframe\">\n",
       "  <thead>\n",
       "    <tr style=\"text-align: right;\">\n",
       "      <th></th>\n",
       "      <th>Place</th>\n",
       "      <th>Name</th>\n",
       "      <th>City</th>\n",
       "      <th>Bib_No</th>\n",
       "      <th>Age</th>\n",
       "      <th>Gender</th>\n",
       "      <th>Age_Group</th>\n",
       "      <th>Chip_Time</th>\n",
       "      <th>Gun_Time</th>\n",
       "      <th>Chip_Diff</th>\n",
       "      <th>Pace</th>\n",
       "      <th>Race</th>\n",
       "    </tr>\n",
       "  </thead>\n",
       "  <tbody>\n",
       "    <tr>\n",
       "      <th>707</th>\n",
       "      <td>708</td>\n",
       "      <td>Emily Cheroske</td>\n",
       "      <td>Missoula  MT US</td>\n",
       "      <td>5182</td>\n",
       "      <td>22.0</td>\n",
       "      <td>F</td>\n",
       "      <td>66/121:20-24</td>\n",
       "      <td>2:18:57.49</td>\n",
       "      <td>2:18:57.49</td>\n",
       "      <td>NaN</td>\n",
       "      <td>10:36/M</td>\n",
       "      <td>half</td>\n",
       "    </tr>\n",
       "    <tr>\n",
       "      <th>1007</th>\n",
       "      <td>1008</td>\n",
       "      <td>Claire Rappold</td>\n",
       "      <td>Missoula  MT US</td>\n",
       "      <td>4333</td>\n",
       "      <td>25.0</td>\n",
       "      <td>F</td>\n",
       "      <td>121/201:25-29</td>\n",
       "      <td>2:33:05.99</td>\n",
       "      <td>2:33:05.99</td>\n",
       "      <td>NaN</td>\n",
       "      <td>11:41/M</td>\n",
       "      <td>half</td>\n",
       "    </tr>\n",
       "    <tr>\n",
       "      <th>1012</th>\n",
       "      <td>1013</td>\n",
       "      <td>Janice Loudon</td>\n",
       "      <td>Overland Park  KS US</td>\n",
       "      <td>3703</td>\n",
       "      <td>58.0</td>\n",
       "      <td>F</td>\n",
       "      <td>62/152:55-59</td>\n",
       "      <td>2:33:41.21</td>\n",
       "      <td>2:33:41.21</td>\n",
       "      <td>NaN</td>\n",
       "      <td>11:44/M</td>\n",
       "      <td>half</td>\n",
       "    </tr>\n",
       "    <tr>\n",
       "      <th>1659</th>\n",
       "      <td>1660</td>\n",
       "      <td>Marybeth Healey</td>\n",
       "      <td>Coeur D Alene  ID US</td>\n",
       "      <td>3160</td>\n",
       "      <td>57.0</td>\n",
       "      <td>F</td>\n",
       "      <td>128/152:55-59</td>\n",
       "      <td>3:32:18.86</td>\n",
       "      <td>3:32:18.86</td>\n",
       "      <td>NaN</td>\n",
       "      <td>16:12/M</td>\n",
       "      <td>half</td>\n",
       "    </tr>\n",
       "    <tr>\n",
       "      <th>1788</th>\n",
       "      <td>1789</td>\n",
       "      <td>Dawn Clark</td>\n",
       "      <td>Butte  MT US</td>\n",
       "      <td>2546</td>\n",
       "      <td>59.0</td>\n",
       "      <td>F</td>\n",
       "      <td>146/152:55-59</td>\n",
       "      <td>4:00:36.85</td>\n",
       "      <td>4:00:36.85</td>\n",
       "      <td>NaN</td>\n",
       "      <td>18:22/M</td>\n",
       "      <td>half</td>\n",
       "    </tr>\n",
       "    <tr>\n",
       "      <th>1808</th>\n",
       "      <td>1809</td>\n",
       "      <td>Amanda Ledoux</td>\n",
       "      <td>Spokane Valley  WA US</td>\n",
       "      <td>3644</td>\n",
       "      <td>44.0</td>\n",
       "      <td>F</td>\n",
       "      <td>202/211:40-44</td>\n",
       "      <td>4:09:38.16</td>\n",
       "      <td>4:09:38.16</td>\n",
       "      <td>NaN</td>\n",
       "      <td>19:03/M</td>\n",
       "      <td>half</td>\n",
       "    </tr>\n",
       "    <tr>\n",
       "      <th>1809</th>\n",
       "      <td>1810</td>\n",
       "      <td>Celina Taylor</td>\n",
       "      <td>Spokane  WA US</td>\n",
       "      <td>4788</td>\n",
       "      <td>42.0</td>\n",
       "      <td>F</td>\n",
       "      <td>203/211:40-44</td>\n",
       "      <td>4:09:38.62</td>\n",
       "      <td>4:09:38.62</td>\n",
       "      <td>NaN</td>\n",
       "      <td>19:03/M</td>\n",
       "      <td>half</td>\n",
       "    </tr>\n",
       "    <tr>\n",
       "      <th>1844</th>\n",
       "      <td>1845</td>\n",
       "      <td>Alina McCue</td>\n",
       "      <td>Missoula  MT US</td>\n",
       "      <td>5185</td>\n",
       "      <td>39.0</td>\n",
       "      <td>F</td>\n",
       "      <td>293/293:35-39</td>\n",
       "      <td>4:31:55.15</td>\n",
       "      <td>4:31:55.15</td>\n",
       "      <td>NaN</td>\n",
       "      <td>20:45/M</td>\n",
       "      <td>half</td>\n",
       "    </tr>\n",
       "    <tr>\n",
       "      <th>1889</th>\n",
       "      <td>37</td>\n",
       "      <td>Connor Morris</td>\n",
       "      <td>Port Orchard  WA US</td>\n",
       "      <td>5298</td>\n",
       "      <td>20.0</td>\n",
       "      <td>M</td>\n",
       "      <td>11/32:20-24</td>\n",
       "      <td>1:26:38.11</td>\n",
       "      <td>1:26:38.11</td>\n",
       "      <td>NaN</td>\n",
       "      <td>6:37/M</td>\n",
       "      <td>half</td>\n",
       "    </tr>\n",
       "    <tr>\n",
       "      <th>1923</th>\n",
       "      <td>71</td>\n",
       "      <td>Lucca Wellenstein</td>\n",
       "      <td>Missoula  MT US</td>\n",
       "      <td>4993</td>\n",
       "      <td>16.0</td>\n",
       "      <td>M</td>\n",
       "      <td>16/45:15-19</td>\n",
       "      <td>1:33:38.00</td>\n",
       "      <td>1:33:38.00</td>\n",
       "      <td>NaN</td>\n",
       "      <td>7:09/M</td>\n",
       "      <td>half</td>\n",
       "    </tr>\n",
       "    <tr>\n",
       "      <th>1974</th>\n",
       "      <td>122</td>\n",
       "      <td>Ian Curtis</td>\n",
       "      <td>Missoula  MT US</td>\n",
       "      <td>2649</td>\n",
       "      <td>16.0</td>\n",
       "      <td>M</td>\n",
       "      <td>25/45:15-19</td>\n",
       "      <td>1:41:59.79</td>\n",
       "      <td>1:41:59.79</td>\n",
       "      <td>NaN</td>\n",
       "      <td>7:47/M</td>\n",
       "      <td>half</td>\n",
       "    </tr>\n",
       "    <tr>\n",
       "      <th>2110</th>\n",
       "      <td>258</td>\n",
       "      <td>Tom Frandsen</td>\n",
       "      <td>Lolo  MT US</td>\n",
       "      <td>2930</td>\n",
       "      <td>34.0</td>\n",
       "      <td>M</td>\n",
       "      <td>40/97:30-34</td>\n",
       "      <td>1:55:03.88</td>\n",
       "      <td>1:55:03.88</td>\n",
       "      <td>NaN</td>\n",
       "      <td>8:47/M</td>\n",
       "      <td>half</td>\n",
       "    </tr>\n",
       "  </tbody>\n",
       "</table>\n",
       "</div>"
      ],
      "text/plain": [
       "      Place               Name                   City  Bib_No   Age Gender  \\\n",
       "707     708     Emily Cheroske        Missoula  MT US    5182  22.0      F   \n",
       "1007   1008     Claire Rappold        Missoula  MT US    4333  25.0      F   \n",
       "1012   1013      Janice Loudon   Overland Park  KS US    3703  58.0      F   \n",
       "1659   1660    Marybeth Healey   Coeur D Alene  ID US    3160  57.0      F   \n",
       "1788   1789         Dawn Clark           Butte  MT US    2546  59.0      F   \n",
       "1808   1809      Amanda Ledoux  Spokane Valley  WA US    3644  44.0      F   \n",
       "1809   1810      Celina Taylor         Spokane  WA US    4788  42.0      F   \n",
       "1844   1845        Alina McCue        Missoula  MT US    5185  39.0      F   \n",
       "1889     37      Connor Morris    Port Orchard  WA US    5298  20.0      M   \n",
       "1923     71  Lucca Wellenstein        Missoula  MT US    4993  16.0      M   \n",
       "1974    122         Ian Curtis        Missoula  MT US    2649  16.0      M   \n",
       "2110    258       Tom Frandsen            Lolo  MT US    2930  34.0      M   \n",
       "\n",
       "          Age_Group    Chip_Time    Gun_Time Chip_Diff     Pace  Race  \n",
       "707    66/121:20-24   2:18:57.49  2:18:57.49       NaN  10:36/M  half  \n",
       "1007  121/201:25-29   2:33:05.99  2:33:05.99       NaN  11:41/M  half  \n",
       "1012   62/152:55-59   2:33:41.21  2:33:41.21       NaN  11:44/M  half  \n",
       "1659  128/152:55-59   3:32:18.86  3:32:18.86       NaN  16:12/M  half  \n",
       "1788  146/152:55-59   4:00:36.85  4:00:36.85       NaN  18:22/M  half  \n",
       "1808  202/211:40-44   4:09:38.16  4:09:38.16       NaN  19:03/M  half  \n",
       "1809  203/211:40-44   4:09:38.62  4:09:38.62       NaN  19:03/M  half  \n",
       "1844  293/293:35-39   4:31:55.15  4:31:55.15       NaN  20:45/M  half  \n",
       "1889    11/32:20-24   1:26:38.11  1:26:38.11       NaN   6:37/M  half  \n",
       "1923    16/45:15-19   1:33:38.00  1:33:38.00       NaN   7:09/M  half  \n",
       "1974    25/45:15-19   1:41:59.79  1:41:59.79       NaN   7:47/M  half  \n",
       "2110    40/97:30-34   1:55:03.88  1:55:03.88       NaN   8:47/M  half  "
      ]
     },
     "execution_count": 9,
     "metadata": {},
     "output_type": "execute_result"
    }
   ],
   "source": [
    "df_half[df_half.Chip_Diff.isna()]"
   ]
  },
  {
   "cell_type": "code",
   "execution_count": 10,
   "metadata": {},
   "outputs": [
    {
     "data": {
      "text/html": [
       "<div>\n",
       "<style scoped>\n",
       "    .dataframe tbody tr th:only-of-type {\n",
       "        vertical-align: middle;\n",
       "    }\n",
       "\n",
       "    .dataframe tbody tr th {\n",
       "        vertical-align: top;\n",
       "    }\n",
       "\n",
       "    .dataframe thead th {\n",
       "        text-align: right;\n",
       "    }\n",
       "</style>\n",
       "<table border=\"1\" class=\"dataframe\">\n",
       "  <thead>\n",
       "    <tr style=\"text-align: right;\">\n",
       "      <th></th>\n",
       "      <th>Place</th>\n",
       "      <th>Name</th>\n",
       "      <th>City</th>\n",
       "      <th>Bib_No</th>\n",
       "      <th>Age</th>\n",
       "      <th>Gender</th>\n",
       "      <th>Age_Group</th>\n",
       "      <th>Chip_Time</th>\n",
       "      <th>Gun_Time</th>\n",
       "      <th>Chip_Diff</th>\n",
       "      <th>Pace</th>\n",
       "      <th>Race</th>\n",
       "    </tr>\n",
       "  </thead>\n",
       "  <tbody>\n",
       "  </tbody>\n",
       "</table>\n",
       "</div>"
      ],
      "text/plain": [
       "Empty DataFrame\n",
       "Columns: [Place, Name, City, Bib_No, Age, Gender, Age_Group, Chip_Time, Gun_Time, Chip_Diff, Pace, Race]\n",
       "Index: []"
      ]
     },
     "execution_count": 10,
     "metadata": {},
     "output_type": "execute_result"
    }
   ],
   "source": [
    "df_half.Chip_Diff = df_half.Chip_Diff.fillna(0)\n",
    "df_half[df_half.Chip_Diff.isna()]"
   ]
  },
  {
   "cell_type": "code",
   "execution_count": 11,
   "metadata": {},
   "outputs": [],
   "source": [
    "#let's fix those same issues with the full results.\n",
    "df_full.City = df_full.City.fillna('Missoula  MT US')\n",
    "df_full.Chip_Diff = df_full.Chip_Diff.fillna(0)"
   ]
  },
  {
   "cell_type": "code",
   "execution_count": 12,
   "metadata": {},
   "outputs": [
    {
     "name": "stdout",
     "output_type": "stream",
     "text": [
      "<class 'pandas.core.frame.DataFrame'>\n",
      "RangeIndex: 1034 entries, 0 to 1033\n",
      "Data columns (total 12 columns):\n",
      "Place        1034 non-null int64\n",
      "Name         1034 non-null object\n",
      "City         1034 non-null object\n",
      "Bib_No       1034 non-null int64\n",
      "Age          1034 non-null int64\n",
      "Gender       1034 non-null object\n",
      "Age_Group    1034 non-null object\n",
      "Chip_Time    1034 non-null object\n",
      "Gun_Time     1034 non-null object\n",
      "Chip_Diff    1034 non-null object\n",
      "Pace         1034 non-null object\n",
      "Race         1034 non-null object\n",
      "dtypes: int64(3), object(9)\n",
      "memory usage: 97.0+ KB\n"
     ]
    }
   ],
   "source": [
    "df_full.info()"
   ]
  },
  {
   "cell_type": "code",
   "execution_count": 13,
   "metadata": {},
   "outputs": [
    {
     "name": "stdout",
     "output_type": "stream",
     "text": [
      "<class 'pandas.core.frame.DataFrame'>\n",
      "Int64Index: 2658 entries, 0 to 2658\n",
      "Data columns (total 12 columns):\n",
      "Place        2658 non-null int64\n",
      "Name         2658 non-null object\n",
      "City         2658 non-null object\n",
      "Bib_No       2658 non-null int64\n",
      "Age          2658 non-null float64\n",
      "Gender       2658 non-null object\n",
      "Age_Group    2658 non-null object\n",
      "Chip_Time    2658 non-null object\n",
      "Gun_Time     2658 non-null object\n",
      "Chip_Diff    2658 non-null object\n",
      "Pace         2658 non-null object\n",
      "Race         2658 non-null object\n",
      "dtypes: float64(1), int64(2), object(9)\n",
      "memory usage: 270.0+ KB\n"
     ]
    }
   ],
   "source": [
    "df_half.info()"
   ]
  },
  {
   "cell_type": "markdown",
   "metadata": {},
   "source": [
    "Ok. We have our missing/messy values worked out. Next, work our our columns.\n",
    "\n",
    "The 'Age_Group' field is holding both the runners place out of the total for that age group and the label. For example:\n",
    "\n",
    "66/121:20-24 - The runner was number 66 out of 121 runners in the 20-24 age group.\n",
    "\n",
    "Let's drop the total number in the group. We can always calculate that if we need it. And let's split the data into two colums one for place and one for group."
   ]
  },
  {
   "cell_type": "code",
   "execution_count": 14,
   "metadata": {},
   "outputs": [],
   "source": [
    "df_half['Age_Group_Place'], df_half['Age_Group'] = df_half.Age_Group.str.split(':', 1).str\n",
    "df_half['Age_Group_Place'], _ = df_half.Age_Group_Place.str.split('/', 1).str"
   ]
  },
  {
   "cell_type": "code",
   "execution_count": 15,
   "metadata": {},
   "outputs": [],
   "source": [
    "df_full['Age_Group_Place'], df_full['Age_Group'] = df_full.Age_Group.str.split(':', 1).str\n",
    "df_full['Age_Group_Place'], _ = df_full.Age_Group_Place.str.split('/', 1).str"
   ]
  },
  {
   "cell_type": "markdown",
   "metadata": {},
   "source": [
    "Let's trim off the '/M' in Pace in case we want to use it numerically."
   ]
  },
  {
   "cell_type": "code",
   "execution_count": 16,
   "metadata": {},
   "outputs": [],
   "source": [
    "df_full.Pace = df_full.Pace.str[:-2]\n",
    "df_half.Pace = df_half.Pace.str[:-2]"
   ]
  },
  {
   "cell_type": "code",
   "execution_count": 17,
   "metadata": {},
   "outputs": [
    {
     "data": {
      "text/html": [
       "<div>\n",
       "<style scoped>\n",
       "    .dataframe tbody tr th:only-of-type {\n",
       "        vertical-align: middle;\n",
       "    }\n",
       "\n",
       "    .dataframe tbody tr th {\n",
       "        vertical-align: top;\n",
       "    }\n",
       "\n",
       "    .dataframe thead th {\n",
       "        text-align: right;\n",
       "    }\n",
       "</style>\n",
       "<table border=\"1\" class=\"dataframe\">\n",
       "  <thead>\n",
       "    <tr style=\"text-align: right;\">\n",
       "      <th></th>\n",
       "      <th>Place</th>\n",
       "      <th>Name</th>\n",
       "      <th>City</th>\n",
       "      <th>Bib_No</th>\n",
       "      <th>Age</th>\n",
       "      <th>Gender</th>\n",
       "      <th>Age_Group</th>\n",
       "      <th>Chip_Time</th>\n",
       "      <th>Gun_Time</th>\n",
       "      <th>Chip_Diff</th>\n",
       "      <th>Pace</th>\n",
       "      <th>Race</th>\n",
       "      <th>Age_Group_Place</th>\n",
       "    </tr>\n",
       "  </thead>\n",
       "  <tbody>\n",
       "    <tr>\n",
       "      <th>0</th>\n",
       "      <td>1</td>\n",
       "      <td>Makena Morley</td>\n",
       "      <td>Bigfork  MT US</td>\n",
       "      <td>2051</td>\n",
       "      <td>21.0</td>\n",
       "      <td>F</td>\n",
       "      <td>20-24</td>\n",
       "      <td>1:15:50.45</td>\n",
       "      <td>1:15:51.79</td>\n",
       "      <td>0:01.34</td>\n",
       "      <td>5:47</td>\n",
       "      <td>half</td>\n",
       "      <td>1</td>\n",
       "    </tr>\n",
       "    <tr>\n",
       "      <th>1</th>\n",
       "      <td>2</td>\n",
       "      <td>Misiker Demessie</td>\n",
       "      <td>Colorado Springs  CO US</td>\n",
       "      <td>2060</td>\n",
       "      <td>31.0</td>\n",
       "      <td>F</td>\n",
       "      <td>30-34</td>\n",
       "      <td>1:18:03.69</td>\n",
       "      <td>1:18:05.58</td>\n",
       "      <td>0:01.89</td>\n",
       "      <td>5:57</td>\n",
       "      <td>half</td>\n",
       "      <td>1</td>\n",
       "    </tr>\n",
       "    <tr>\n",
       "      <th>2</th>\n",
       "      <td>3</td>\n",
       "      <td>Kelsi Lasota</td>\n",
       "      <td>Estes Park  CO US</td>\n",
       "      <td>2052</td>\n",
       "      <td>22.0</td>\n",
       "      <td>F</td>\n",
       "      <td>20-24</td>\n",
       "      <td>1:18:41.68</td>\n",
       "      <td>1:18:43.68</td>\n",
       "      <td>0:02.00</td>\n",
       "      <td>6:00</td>\n",
       "      <td>half</td>\n",
       "      <td>2</td>\n",
       "    </tr>\n",
       "    <tr>\n",
       "      <th>3</th>\n",
       "      <td>4</td>\n",
       "      <td>Elizabeth Wasserman</td>\n",
       "      <td>Goshen  NY US</td>\n",
       "      <td>2056</td>\n",
       "      <td>23.0</td>\n",
       "      <td>F</td>\n",
       "      <td>20-24</td>\n",
       "      <td>1:19:18.71</td>\n",
       "      <td>1:19:20.92</td>\n",
       "      <td>0:02.21</td>\n",
       "      <td>6:03</td>\n",
       "      <td>half</td>\n",
       "      <td>3</td>\n",
       "    </tr>\n",
       "    <tr>\n",
       "      <th>4</th>\n",
       "      <td>5</td>\n",
       "      <td>Andrea Masterson</td>\n",
       "      <td>Seattle  WA US</td>\n",
       "      <td>2053</td>\n",
       "      <td>21.0</td>\n",
       "      <td>F</td>\n",
       "      <td>20-24</td>\n",
       "      <td>1:21:38.93</td>\n",
       "      <td>1:21:40.32</td>\n",
       "      <td>0:01.39</td>\n",
       "      <td>6:14</td>\n",
       "      <td>half</td>\n",
       "      <td>4</td>\n",
       "    </tr>\n",
       "  </tbody>\n",
       "</table>\n",
       "</div>"
      ],
      "text/plain": [
       "   Place                 Name                     City  Bib_No   Age Gender  \\\n",
       "0      1        Makena Morley           Bigfork  MT US    2051  21.0      F   \n",
       "1      2     Misiker Demessie  Colorado Springs  CO US    2060  31.0      F   \n",
       "2      3         Kelsi Lasota        Estes Park  CO US    2052  22.0      F   \n",
       "3      4  Elizabeth Wasserman            Goshen  NY US    2056  23.0      F   \n",
       "4      5     Andrea Masterson           Seattle  WA US    2053  21.0      F   \n",
       "\n",
       "  Age_Group    Chip_Time    Gun_Time Chip_Diff  Pace  Race Age_Group_Place  \n",
       "0     20-24   1:15:50.45  1:15:51.79   0:01.34  5:47  half               1  \n",
       "1     30-34   1:18:03.69  1:18:05.58   0:01.89  5:57  half               1  \n",
       "2     20-24   1:18:41.68  1:18:43.68   0:02.00  6:00  half               2  \n",
       "3     20-24   1:19:18.71  1:19:20.92   0:02.21  6:03  half               3  \n",
       "4     20-24   1:21:38.93  1:21:40.32   0:01.39  6:14  half               4  "
      ]
     },
     "execution_count": 17,
     "metadata": {},
     "output_type": "execute_result"
    }
   ],
   "source": [
    "df_half.head()"
   ]
  },
  {
   "cell_type": "code",
   "execution_count": 18,
   "metadata": {
    "scrolled": true
   },
   "outputs": [
    {
     "data": {
      "text/html": [
       "<div>\n",
       "<style scoped>\n",
       "    .dataframe tbody tr th:only-of-type {\n",
       "        vertical-align: middle;\n",
       "    }\n",
       "\n",
       "    .dataframe tbody tr th {\n",
       "        vertical-align: top;\n",
       "    }\n",
       "\n",
       "    .dataframe thead th {\n",
       "        text-align: right;\n",
       "    }\n",
       "</style>\n",
       "<table border=\"1\" class=\"dataframe\">\n",
       "  <thead>\n",
       "    <tr style=\"text-align: right;\">\n",
       "      <th></th>\n",
       "      <th>Place</th>\n",
       "      <th>Name</th>\n",
       "      <th>City</th>\n",
       "      <th>Bib_No</th>\n",
       "      <th>Age</th>\n",
       "      <th>Gender</th>\n",
       "      <th>Age_Group</th>\n",
       "      <th>Chip_Time</th>\n",
       "      <th>Gun_Time</th>\n",
       "      <th>Chip_Diff</th>\n",
       "      <th>Pace</th>\n",
       "      <th>Race</th>\n",
       "      <th>Age_Group_Place</th>\n",
       "    </tr>\n",
       "  </thead>\n",
       "  <tbody>\n",
       "    <tr>\n",
       "      <th>0</th>\n",
       "      <td>1</td>\n",
       "      <td>Keely Baker</td>\n",
       "      <td>Great Falls  MT US</td>\n",
       "      <td>52</td>\n",
       "      <td>26</td>\n",
       "      <td>F</td>\n",
       "      <td>25-29</td>\n",
       "      <td>2:51:46.12</td>\n",
       "      <td>2:51:48.01</td>\n",
       "      <td>0:01.89</td>\n",
       "      <td>6:33</td>\n",
       "      <td>full</td>\n",
       "      <td>1</td>\n",
       "    </tr>\n",
       "    <tr>\n",
       "      <th>1</th>\n",
       "      <td>2</td>\n",
       "      <td>Trisha Drobeck</td>\n",
       "      <td>Missoula  MT US</td>\n",
       "      <td>51</td>\n",
       "      <td>38</td>\n",
       "      <td>F</td>\n",
       "      <td>35-39</td>\n",
       "      <td>2:53:28.28</td>\n",
       "      <td>2:53:30.08</td>\n",
       "      <td>0:01.80</td>\n",
       "      <td>6:37</td>\n",
       "      <td>full</td>\n",
       "      <td>1</td>\n",
       "    </tr>\n",
       "    <tr>\n",
       "      <th>2</th>\n",
       "      <td>3</td>\n",
       "      <td>Chelsea Dana</td>\n",
       "      <td>Billings  MT US</td>\n",
       "      <td>355</td>\n",
       "      <td>35</td>\n",
       "      <td>F</td>\n",
       "      <td>35-39</td>\n",
       "      <td>3:01:37.43</td>\n",
       "      <td>3:01:43.04</td>\n",
       "      <td>0:05.61</td>\n",
       "      <td>6:56</td>\n",
       "      <td>full</td>\n",
       "      <td>2</td>\n",
       "    </tr>\n",
       "    <tr>\n",
       "      <th>3</th>\n",
       "      <td>4</td>\n",
       "      <td>Evie Tate</td>\n",
       "      <td>Missoula  MT US</td>\n",
       "      <td>1211</td>\n",
       "      <td>23</td>\n",
       "      <td>F</td>\n",
       "      <td>20-24</td>\n",
       "      <td>3:09:32.24</td>\n",
       "      <td>3:09:45.38</td>\n",
       "      <td>0:13.14</td>\n",
       "      <td>7:14</td>\n",
       "      <td>full</td>\n",
       "      <td>1</td>\n",
       "    </tr>\n",
       "    <tr>\n",
       "      <th>4</th>\n",
       "      <td>5</td>\n",
       "      <td>Erin Forde</td>\n",
       "      <td>Missoula  MT US</td>\n",
       "      <td>56</td>\n",
       "      <td>25</td>\n",
       "      <td>F</td>\n",
       "      <td>25-29</td>\n",
       "      <td>3:09:37.84</td>\n",
       "      <td>3:09:41.66</td>\n",
       "      <td>0:03.82</td>\n",
       "      <td>7:14</td>\n",
       "      <td>full</td>\n",
       "      <td>2</td>\n",
       "    </tr>\n",
       "  </tbody>\n",
       "</table>\n",
       "</div>"
      ],
      "text/plain": [
       "   Place            Name                City  Bib_No  Age Gender Age_Group  \\\n",
       "0      1     Keely Baker  Great Falls  MT US      52   26      F     25-29   \n",
       "1      2  Trisha Drobeck     Missoula  MT US      51   38      F     35-39   \n",
       "2      3    Chelsea Dana     Billings  MT US     355   35      F     35-39   \n",
       "3      4       Evie Tate     Missoula  MT US    1211   23      F     20-24   \n",
       "4      5      Erin Forde     Missoula  MT US      56   25      F     25-29   \n",
       "\n",
       "     Chip_Time    Gun_Time Chip_Diff  Pace  Race Age_Group_Place  \n",
       "0   2:51:46.12  2:51:48.01   0:01.89  6:33  full               1  \n",
       "1   2:53:28.28  2:53:30.08   0:01.80  6:37  full               1  \n",
       "2   3:01:37.43  3:01:43.04   0:05.61  6:56  full               2  \n",
       "3   3:09:32.24  3:09:45.38   0:13.14  7:14  full               1  \n",
       "4   3:09:37.84  3:09:41.66   0:03.82  7:14  full               2  "
      ]
     },
     "execution_count": 18,
     "metadata": {},
     "output_type": "execute_result"
    }
   ],
   "source": [
    "df_full.head()"
   ]
  },
  {
   "cell_type": "markdown",
   "metadata": {},
   "source": [
    "Looks good. Let's combine and save the output...in hindsight, we should have combined sooner and saved ourselves some steps, but I didn't think I was going to until just now. Oh well, live and learn."
   ]
  },
  {
   "cell_type": "code",
   "execution_count": 19,
   "metadata": {},
   "outputs": [],
   "source": [
    "df_all = pd.concat([df_full, df_half])"
   ]
  },
  {
   "cell_type": "code",
   "execution_count": 20,
   "metadata": {},
   "outputs": [
    {
     "data": {
      "text/html": [
       "<div>\n",
       "<style scoped>\n",
       "    .dataframe tbody tr th:only-of-type {\n",
       "        vertical-align: middle;\n",
       "    }\n",
       "\n",
       "    .dataframe tbody tr th {\n",
       "        vertical-align: top;\n",
       "    }\n",
       "\n",
       "    .dataframe thead th {\n",
       "        text-align: right;\n",
       "    }\n",
       "</style>\n",
       "<table border=\"1\" class=\"dataframe\">\n",
       "  <thead>\n",
       "    <tr style=\"text-align: right;\">\n",
       "      <th></th>\n",
       "      <th>Place</th>\n",
       "      <th>Name</th>\n",
       "      <th>City</th>\n",
       "      <th>Bib_No</th>\n",
       "      <th>Age</th>\n",
       "      <th>Gender</th>\n",
       "      <th>Age_Group</th>\n",
       "      <th>Chip_Time</th>\n",
       "      <th>Gun_Time</th>\n",
       "      <th>Chip_Diff</th>\n",
       "      <th>Pace</th>\n",
       "      <th>Race</th>\n",
       "      <th>Age_Group_Place</th>\n",
       "    </tr>\n",
       "  </thead>\n",
       "  <tbody>\n",
       "    <tr>\n",
       "      <th>1719</th>\n",
       "      <td>1720</td>\n",
       "      <td>Ashlee Bell</td>\n",
       "      <td>Lolo  MT US</td>\n",
       "      <td>2275</td>\n",
       "      <td>30.0</td>\n",
       "      <td>F</td>\n",
       "      <td>30-34</td>\n",
       "      <td>3:45:54.74</td>\n",
       "      <td>3:48:53.62</td>\n",
       "      <td>2:58.88</td>\n",
       "      <td>17:15</td>\n",
       "      <td>half</td>\n",
       "      <td>258</td>\n",
       "    </tr>\n",
       "    <tr>\n",
       "      <th>1646</th>\n",
       "      <td>1647</td>\n",
       "      <td>Lara Chavez</td>\n",
       "      <td>Littleton  CO US</td>\n",
       "      <td>2525</td>\n",
       "      <td>34.0</td>\n",
       "      <td>F</td>\n",
       "      <td>30-34</td>\n",
       "      <td>3:30:15.60</td>\n",
       "      <td>3:34:34.24</td>\n",
       "      <td>4:18.64</td>\n",
       "      <td>16:03</td>\n",
       "      <td>half</td>\n",
       "      <td>249</td>\n",
       "    </tr>\n",
       "    <tr>\n",
       "      <th>607</th>\n",
       "      <td>135</td>\n",
       "      <td>Billy Moriarity</td>\n",
       "      <td>Missoula  MT US</td>\n",
       "      <td>1366</td>\n",
       "      <td>40.0</td>\n",
       "      <td>M</td>\n",
       "      <td>40-44</td>\n",
       "      <td>3:44:41.28</td>\n",
       "      <td>3:44:54.78</td>\n",
       "      <td>0:13.50</td>\n",
       "      <td>8:35</td>\n",
       "      <td>full</td>\n",
       "      <td>22</td>\n",
       "    </tr>\n",
       "    <tr>\n",
       "      <th>1034</th>\n",
       "      <td>1035</td>\n",
       "      <td>Jackie Tunis</td>\n",
       "      <td>Missoula  MT US</td>\n",
       "      <td>4869</td>\n",
       "      <td>28.0</td>\n",
       "      <td>F</td>\n",
       "      <td>25-29</td>\n",
       "      <td>2:34:31.77</td>\n",
       "      <td>2:36:24.92</td>\n",
       "      <td>1:53.15</td>\n",
       "      <td>11:48</td>\n",
       "      <td>half</td>\n",
       "      <td>124</td>\n",
       "    </tr>\n",
       "    <tr>\n",
       "      <th>1491</th>\n",
       "      <td>1492</td>\n",
       "      <td>Jennifer Tobiason</td>\n",
       "      <td>Juneau  AK US</td>\n",
       "      <td>4840</td>\n",
       "      <td>29.0</td>\n",
       "      <td>F</td>\n",
       "      <td>25-29</td>\n",
       "      <td>3:10:37.40</td>\n",
       "      <td>3:14:21.83</td>\n",
       "      <td>3:44.43</td>\n",
       "      <td>14:33</td>\n",
       "      <td>half</td>\n",
       "      <td>173</td>\n",
       "    </tr>\n",
       "    <tr>\n",
       "      <th>1671</th>\n",
       "      <td>1672</td>\n",
       "      <td>Judy Sitton</td>\n",
       "      <td>Saint John  WA US</td>\n",
       "      <td>4639</td>\n",
       "      <td>59.0</td>\n",
       "      <td>F</td>\n",
       "      <td>55-59</td>\n",
       "      <td>3:34:39.94</td>\n",
       "      <td>3:39:20.74</td>\n",
       "      <td>4:40.80</td>\n",
       "      <td>16:23</td>\n",
       "      <td>half</td>\n",
       "      <td>129</td>\n",
       "    </tr>\n",
       "    <tr>\n",
       "      <th>275</th>\n",
       "      <td>276</td>\n",
       "      <td>Tania Diener</td>\n",
       "      <td>Regina  SK CA</td>\n",
       "      <td>376</td>\n",
       "      <td>54.0</td>\n",
       "      <td>F</td>\n",
       "      <td>50-54</td>\n",
       "      <td>5:00:42.26</td>\n",
       "      <td>5:02:12.70</td>\n",
       "      <td>1:30.44</td>\n",
       "      <td>11:29</td>\n",
       "      <td>full</td>\n",
       "      <td>20</td>\n",
       "    </tr>\n",
       "    <tr>\n",
       "      <th>96</th>\n",
       "      <td>97</td>\n",
       "      <td>Rene Parks</td>\n",
       "      <td>Bourbonnais  IL US</td>\n",
       "      <td>933</td>\n",
       "      <td>43.0</td>\n",
       "      <td>F</td>\n",
       "      <td>40-44</td>\n",
       "      <td>3:59:54.40</td>\n",
       "      <td>4:00:35.29</td>\n",
       "      <td>0:40.89</td>\n",
       "      <td>9:09</td>\n",
       "      <td>full</td>\n",
       "      <td>11</td>\n",
       "    </tr>\n",
       "    <tr>\n",
       "      <th>483</th>\n",
       "      <td>484</td>\n",
       "      <td>Dorren McDermott</td>\n",
       "      <td>Bryn Mawr  PA US</td>\n",
       "      <td>3850</td>\n",
       "      <td>50.0</td>\n",
       "      <td>F</td>\n",
       "      <td>50-54</td>\n",
       "      <td>2:08:05.65</td>\n",
       "      <td>2:09:15.92</td>\n",
       "      <td>1:10.27</td>\n",
       "      <td>9:47</td>\n",
       "      <td>half</td>\n",
       "      <td>25</td>\n",
       "    </tr>\n",
       "    <tr>\n",
       "      <th>622</th>\n",
       "      <td>623</td>\n",
       "      <td>Heather Pettit</td>\n",
       "      <td>Genesee  ID US</td>\n",
       "      <td>4253</td>\n",
       "      <td>31.0</td>\n",
       "      <td>F</td>\n",
       "      <td>30-34</td>\n",
       "      <td>2:14:17.32</td>\n",
       "      <td>2:16:48.27</td>\n",
       "      <td>2:30.95</td>\n",
       "      <td>10:15</td>\n",
       "      <td>half</td>\n",
       "      <td>139</td>\n",
       "    </tr>\n",
       "  </tbody>\n",
       "</table>\n",
       "</div>"
      ],
      "text/plain": [
       "      Place               Name                City  Bib_No   Age Gender  \\\n",
       "1719   1720        Ashlee Bell         Lolo  MT US    2275  30.0      F   \n",
       "1646   1647        Lara Chavez    Littleton  CO US    2525  34.0      F   \n",
       "607     135    Billy Moriarity     Missoula  MT US    1366  40.0      M   \n",
       "1034   1035       Jackie Tunis     Missoula  MT US    4869  28.0      F   \n",
       "1491   1492  Jennifer Tobiason       Juneau  AK US    4840  29.0      F   \n",
       "1671   1672        Judy Sitton   Saint John  WA US    4639  59.0      F   \n",
       "275     276       Tania Diener       Regina  SK CA     376  54.0      F   \n",
       "96       97         Rene Parks  Bourbonnais  IL US     933  43.0      F   \n",
       "483     484   Dorren McDermott    Bryn Mawr  PA US    3850  50.0      F   \n",
       "622     623     Heather Pettit      Genesee  ID US    4253  31.0      F   \n",
       "\n",
       "     Age_Group    Chip_Time    Gun_Time Chip_Diff   Pace  Race Age_Group_Place  \n",
       "1719     30-34   3:45:54.74  3:48:53.62   2:58.88  17:15  half             258  \n",
       "1646     30-34   3:30:15.60  3:34:34.24   4:18.64  16:03  half             249  \n",
       "607      40-44   3:44:41.28  3:44:54.78   0:13.50   8:35  full              22  \n",
       "1034     25-29   2:34:31.77  2:36:24.92   1:53.15  11:48  half             124  \n",
       "1491     25-29   3:10:37.40  3:14:21.83   3:44.43  14:33  half             173  \n",
       "1671     55-59   3:34:39.94  3:39:20.74   4:40.80  16:23  half             129  \n",
       "275      50-54   5:00:42.26  5:02:12.70   1:30.44  11:29  full              20  \n",
       "96       40-44   3:59:54.40  4:00:35.29   0:40.89   9:09  full              11  \n",
       "483      50-54   2:08:05.65  2:09:15.92   1:10.27   9:47  half              25  \n",
       "622      30-34   2:14:17.32  2:16:48.27   2:30.95  10:15  half             139  "
      ]
     },
     "execution_count": 20,
     "metadata": {},
     "output_type": "execute_result"
    }
   ],
   "source": [
    "df_all.sample(10)"
   ]
  },
  {
   "cell_type": "markdown",
   "metadata": {},
   "source": [
    "Let's save it and move on to analysis."
   ]
  },
  {
   "cell_type": "code",
   "execution_count": 21,
   "metadata": {},
   "outputs": [],
   "source": [
    "df_all['Chip_Time_Minutes'] = pd.to_timedelta(df_all.Chip_Time).dt.total_seconds()/60\n",
    "df_all['Gun_Time_Minutes'] = pd.to_timedelta(df_all.Gun_Time).dt.total_seconds()/60\n",
    "df_all['Chip_Diff_Seconds'] = (df_all.Gun_Time_Minutes - df_all.Chip_Time_Minutes)*60"
   ]
  },
  {
   "cell_type": "code",
   "execution_count": 22,
   "metadata": {},
   "outputs": [
    {
     "data": {
      "text/html": [
       "<div>\n",
       "<style scoped>\n",
       "    .dataframe tbody tr th:only-of-type {\n",
       "        vertical-align: middle;\n",
       "    }\n",
       "\n",
       "    .dataframe tbody tr th {\n",
       "        vertical-align: top;\n",
       "    }\n",
       "\n",
       "    .dataframe thead th {\n",
       "        text-align: right;\n",
       "    }\n",
       "</style>\n",
       "<table border=\"1\" class=\"dataframe\">\n",
       "  <thead>\n",
       "    <tr style=\"text-align: right;\">\n",
       "      <th></th>\n",
       "      <th>Place</th>\n",
       "      <th>Name</th>\n",
       "      <th>City</th>\n",
       "      <th>Bib_No</th>\n",
       "      <th>Age</th>\n",
       "      <th>Gender</th>\n",
       "      <th>Age_Group</th>\n",
       "      <th>Chip_Time</th>\n",
       "      <th>Gun_Time</th>\n",
       "      <th>Chip_Diff</th>\n",
       "      <th>Pace</th>\n",
       "      <th>Race</th>\n",
       "      <th>Age_Group_Place</th>\n",
       "      <th>Chip_Time_Minutes</th>\n",
       "      <th>Gun_Time_Minutes</th>\n",
       "      <th>Chip_Diff_Seconds</th>\n",
       "    </tr>\n",
       "  </thead>\n",
       "  <tbody>\n",
       "    <tr>\n",
       "      <th>0</th>\n",
       "      <td>1</td>\n",
       "      <td>Keely Baker</td>\n",
       "      <td>Great Falls  MT US</td>\n",
       "      <td>52</td>\n",
       "      <td>26.0</td>\n",
       "      <td>F</td>\n",
       "      <td>25-29</td>\n",
       "      <td>2:51:46.12</td>\n",
       "      <td>2:51:48.01</td>\n",
       "      <td>0:01.89</td>\n",
       "      <td>6:33</td>\n",
       "      <td>full</td>\n",
       "      <td>1</td>\n",
       "      <td>171.768667</td>\n",
       "      <td>171.800167</td>\n",
       "      <td>1.89</td>\n",
       "    </tr>\n",
       "    <tr>\n",
       "      <th>1</th>\n",
       "      <td>2</td>\n",
       "      <td>Trisha Drobeck</td>\n",
       "      <td>Missoula  MT US</td>\n",
       "      <td>51</td>\n",
       "      <td>38.0</td>\n",
       "      <td>F</td>\n",
       "      <td>35-39</td>\n",
       "      <td>2:53:28.28</td>\n",
       "      <td>2:53:30.08</td>\n",
       "      <td>0:01.80</td>\n",
       "      <td>6:37</td>\n",
       "      <td>full</td>\n",
       "      <td>1</td>\n",
       "      <td>173.471333</td>\n",
       "      <td>173.501333</td>\n",
       "      <td>1.80</td>\n",
       "    </tr>\n",
       "    <tr>\n",
       "      <th>2</th>\n",
       "      <td>3</td>\n",
       "      <td>Chelsea Dana</td>\n",
       "      <td>Billings  MT US</td>\n",
       "      <td>355</td>\n",
       "      <td>35.0</td>\n",
       "      <td>F</td>\n",
       "      <td>35-39</td>\n",
       "      <td>3:01:37.43</td>\n",
       "      <td>3:01:43.04</td>\n",
       "      <td>0:05.61</td>\n",
       "      <td>6:56</td>\n",
       "      <td>full</td>\n",
       "      <td>2</td>\n",
       "      <td>181.623833</td>\n",
       "      <td>181.717333</td>\n",
       "      <td>5.61</td>\n",
       "    </tr>\n",
       "    <tr>\n",
       "      <th>3</th>\n",
       "      <td>4</td>\n",
       "      <td>Evie Tate</td>\n",
       "      <td>Missoula  MT US</td>\n",
       "      <td>1211</td>\n",
       "      <td>23.0</td>\n",
       "      <td>F</td>\n",
       "      <td>20-24</td>\n",
       "      <td>3:09:32.24</td>\n",
       "      <td>3:09:45.38</td>\n",
       "      <td>0:13.14</td>\n",
       "      <td>7:14</td>\n",
       "      <td>full</td>\n",
       "      <td>1</td>\n",
       "      <td>189.537333</td>\n",
       "      <td>189.756333</td>\n",
       "      <td>13.14</td>\n",
       "    </tr>\n",
       "    <tr>\n",
       "      <th>4</th>\n",
       "      <td>5</td>\n",
       "      <td>Erin Forde</td>\n",
       "      <td>Missoula  MT US</td>\n",
       "      <td>56</td>\n",
       "      <td>25.0</td>\n",
       "      <td>F</td>\n",
       "      <td>25-29</td>\n",
       "      <td>3:09:37.84</td>\n",
       "      <td>3:09:41.66</td>\n",
       "      <td>0:03.82</td>\n",
       "      <td>7:14</td>\n",
       "      <td>full</td>\n",
       "      <td>2</td>\n",
       "      <td>189.630667</td>\n",
       "      <td>189.694333</td>\n",
       "      <td>3.82</td>\n",
       "    </tr>\n",
       "  </tbody>\n",
       "</table>\n",
       "</div>"
      ],
      "text/plain": [
       "   Place            Name                City  Bib_No   Age Gender Age_Group  \\\n",
       "0      1     Keely Baker  Great Falls  MT US      52  26.0      F     25-29   \n",
       "1      2  Trisha Drobeck     Missoula  MT US      51  38.0      F     35-39   \n",
       "2      3    Chelsea Dana     Billings  MT US     355  35.0      F     35-39   \n",
       "3      4       Evie Tate     Missoula  MT US    1211  23.0      F     20-24   \n",
       "4      5      Erin Forde     Missoula  MT US      56  25.0      F     25-29   \n",
       "\n",
       "     Chip_Time    Gun_Time Chip_Diff  Pace  Race Age_Group_Place  \\\n",
       "0   2:51:46.12  2:51:48.01   0:01.89  6:33  full               1   \n",
       "1   2:53:28.28  2:53:30.08   0:01.80  6:37  full               1   \n",
       "2   3:01:37.43  3:01:43.04   0:05.61  6:56  full               2   \n",
       "3   3:09:32.24  3:09:45.38   0:13.14  7:14  full               1   \n",
       "4   3:09:37.84  3:09:41.66   0:03.82  7:14  full               2   \n",
       "\n",
       "   Chip_Time_Minutes  Gun_Time_Minutes  Chip_Diff_Seconds  \n",
       "0         171.768667        171.800167               1.89  \n",
       "1         173.471333        173.501333               1.80  \n",
       "2         181.623833        181.717333               5.61  \n",
       "3         189.537333        189.756333              13.14  \n",
       "4         189.630667        189.694333               3.82  "
      ]
     },
     "execution_count": 22,
     "metadata": {},
     "output_type": "execute_result"
    }
   ],
   "source": [
    "df_all.head()"
   ]
  },
  {
   "cell_type": "code",
   "execution_count": 23,
   "metadata": {},
   "outputs": [],
   "source": [
    "df_all['Pace_Decimal'] = np.where(df_all.Race == 'full', df_all.Chip_Time_Minutes/26.2, df_all.Chip_Time_Minutes/13.1)"
   ]
  },
  {
   "cell_type": "markdown",
   "metadata": {},
   "source": [
    "Fix our data types"
   ]
  },
  {
   "cell_type": "code",
   "execution_count": 24,
   "metadata": {},
   "outputs": [],
   "source": [
    "df_all.Race = df_all.Race.astype('category')\n",
    "df_all.Age_Group_Place = df_all.Age_Group_Place.astype('int32')"
   ]
  },
  {
   "cell_type": "code",
   "execution_count": 25,
   "metadata": {},
   "outputs": [
    {
     "data": {
      "text/html": [
       "<div>\n",
       "<style scoped>\n",
       "    .dataframe tbody tr th:only-of-type {\n",
       "        vertical-align: middle;\n",
       "    }\n",
       "\n",
       "    .dataframe tbody tr th {\n",
       "        vertical-align: top;\n",
       "    }\n",
       "\n",
       "    .dataframe thead th {\n",
       "        text-align: right;\n",
       "    }\n",
       "</style>\n",
       "<table border=\"1\" class=\"dataframe\">\n",
       "  <thead>\n",
       "    <tr style=\"text-align: right;\">\n",
       "      <th></th>\n",
       "      <th>Place</th>\n",
       "      <th>Bib_No</th>\n",
       "      <th>Age</th>\n",
       "      <th>Age_Group_Place</th>\n",
       "      <th>Chip_Time_Minutes</th>\n",
       "      <th>Gun_Time_Minutes</th>\n",
       "      <th>Chip_Diff_Seconds</th>\n",
       "      <th>Pace_Decimal</th>\n",
       "    </tr>\n",
       "  </thead>\n",
       "  <tbody>\n",
       "    <tr>\n",
       "      <th>count</th>\n",
       "      <td>3692.000000</td>\n",
       "      <td>3692.000000</td>\n",
       "      <td>3692.000000</td>\n",
       "      <td>3692.000000</td>\n",
       "      <td>3692.000000</td>\n",
       "      <td>3692.000000</td>\n",
       "      <td>3692.000000</td>\n",
       "      <td>3692.000000</td>\n",
       "    </tr>\n",
       "    <tr>\n",
       "      <th>mean</th>\n",
       "      <td>626.201788</td>\n",
       "      <td>2957.951246</td>\n",
       "      <td>41.475623</td>\n",
       "      <td>65.133261</td>\n",
       "      <td>186.360980</td>\n",
       "      <td>188.007287</td>\n",
       "      <td>98.778448</td>\n",
       "      <td>11.252631</td>\n",
       "    </tr>\n",
       "    <tr>\n",
       "      <th>std</th>\n",
       "      <td>505.587348</td>\n",
       "      <td>1632.593848</td>\n",
       "      <td>13.657386</td>\n",
       "      <td>61.065528</td>\n",
       "      <td>73.533441</td>\n",
       "      <td>73.693673</td>\n",
       "      <td>80.275205</td>\n",
       "      <td>2.891586</td>\n",
       "    </tr>\n",
       "    <tr>\n",
       "      <th>min</th>\n",
       "      <td>1.000000</td>\n",
       "      <td>1.000000</td>\n",
       "      <td>10.000000</td>\n",
       "      <td>1.000000</td>\n",
       "      <td>67.856500</td>\n",
       "      <td>67.856500</td>\n",
       "      <td>0.000000</td>\n",
       "      <td>5.179885</td>\n",
       "    </tr>\n",
       "    <tr>\n",
       "      <th>25%</th>\n",
       "      <td>231.000000</td>\n",
       "      <td>1298.750000</td>\n",
       "      <td>31.000000</td>\n",
       "      <td>20.000000</td>\n",
       "      <td>129.073458</td>\n",
       "      <td>130.385250</td>\n",
       "      <td>32.625000</td>\n",
       "      <td>9.131054</td>\n",
       "    </tr>\n",
       "    <tr>\n",
       "      <th>50%</th>\n",
       "      <td>462.000000</td>\n",
       "      <td>3136.500000</td>\n",
       "      <td>40.000000</td>\n",
       "      <td>45.000000</td>\n",
       "      <td>163.896333</td>\n",
       "      <td>166.416917</td>\n",
       "      <td>78.815000</td>\n",
       "      <td>10.753575</td>\n",
       "    </tr>\n",
       "    <tr>\n",
       "      <th>75%</th>\n",
       "      <td>930.250000</td>\n",
       "      <td>4313.250000</td>\n",
       "      <td>52.000000</td>\n",
       "      <td>89.000000</td>\n",
       "      <td>231.915833</td>\n",
       "      <td>233.535417</td>\n",
       "      <td>145.535000</td>\n",
       "      <td>12.792576</td>\n",
       "    </tr>\n",
       "    <tr>\n",
       "      <th>max</th>\n",
       "      <td>1853.000000</td>\n",
       "      <td>7032.000000</td>\n",
       "      <td>85.000000</td>\n",
       "      <td>293.000000</td>\n",
       "      <td>472.856333</td>\n",
       "      <td>473.926167</td>\n",
       "      <td>737.910000</td>\n",
       "      <td>30.162748</td>\n",
       "    </tr>\n",
       "  </tbody>\n",
       "</table>\n",
       "</div>"
      ],
      "text/plain": [
       "             Place       Bib_No          Age  Age_Group_Place  \\\n",
       "count  3692.000000  3692.000000  3692.000000      3692.000000   \n",
       "mean    626.201788  2957.951246    41.475623        65.133261   \n",
       "std     505.587348  1632.593848    13.657386        61.065528   \n",
       "min       1.000000     1.000000    10.000000         1.000000   \n",
       "25%     231.000000  1298.750000    31.000000        20.000000   \n",
       "50%     462.000000  3136.500000    40.000000        45.000000   \n",
       "75%     930.250000  4313.250000    52.000000        89.000000   \n",
       "max    1853.000000  7032.000000    85.000000       293.000000   \n",
       "\n",
       "       Chip_Time_Minutes  Gun_Time_Minutes  Chip_Diff_Seconds  Pace_Decimal  \n",
       "count        3692.000000       3692.000000        3692.000000   3692.000000  \n",
       "mean          186.360980        188.007287          98.778448     11.252631  \n",
       "std            73.533441         73.693673          80.275205      2.891586  \n",
       "min            67.856500         67.856500           0.000000      5.179885  \n",
       "25%           129.073458        130.385250          32.625000      9.131054  \n",
       "50%           163.896333        166.416917          78.815000     10.753575  \n",
       "75%           231.915833        233.535417         145.535000     12.792576  \n",
       "max           472.856333        473.926167         737.910000     30.162748  "
      ]
     },
     "execution_count": 25,
     "metadata": {},
     "output_type": "execute_result"
    }
   ],
   "source": [
    "df_all.describe()"
   ]
  },
  {
   "cell_type": "code",
   "execution_count": 26,
   "metadata": {},
   "outputs": [],
   "source": [
    "#I think we're done with our cleaning and feature engineering. Let's save a copy.\n",
    "df_all.to_csv('data/2018_missoula_marathon_all_clean.csv', index=False)"
   ]
  },
  {
   "cell_type": "markdown",
   "metadata": {},
   "source": [
    "### Exploration\n",
    "\n",
    "Let's start by looking at some of our numeric values."
   ]
  },
  {
   "cell_type": "code",
   "execution_count": 27,
   "metadata": {},
   "outputs": [],
   "source": [
    "#let's start by updating our 'half' and 'full' data frames.\n",
    "df_full = df_all[df_all.Race == 'full']\n",
    "df_half = df_all[df_all.Race == 'half']"
   ]
  },
  {
   "cell_type": "code",
   "execution_count": 28,
   "metadata": {
    "scrolled": false
   },
   "outputs": [
    {
     "data": {
      "text/html": [
       "<div>\n",
       "<style scoped>\n",
       "    .dataframe tbody tr th:only-of-type {\n",
       "        vertical-align: middle;\n",
       "    }\n",
       "\n",
       "    .dataframe tbody tr th {\n",
       "        vertical-align: top;\n",
       "    }\n",
       "\n",
       "    .dataframe thead th {\n",
       "        text-align: right;\n",
       "    }\n",
       "</style>\n",
       "<table border=\"1\" class=\"dataframe\">\n",
       "  <thead>\n",
       "    <tr style=\"text-align: right;\">\n",
       "      <th></th>\n",
       "      <th>Place</th>\n",
       "      <th>Bib_No</th>\n",
       "      <th>Age</th>\n",
       "      <th>Age_Group_Place</th>\n",
       "      <th>Chip_Time_Minutes</th>\n",
       "      <th>Gun_Time_Minutes</th>\n",
       "      <th>Chip_Diff_Seconds</th>\n",
       "      <th>Pace_Decimal</th>\n",
       "    </tr>\n",
       "  </thead>\n",
       "  <tbody>\n",
       "    <tr>\n",
       "      <th>count</th>\n",
       "      <td>1034.000000</td>\n",
       "      <td>1034.000000</td>\n",
       "      <td>1034.000000</td>\n",
       "      <td>1034.000000</td>\n",
       "      <td>1034.000000</td>\n",
       "      <td>1034.000000</td>\n",
       "      <td>1034.000000</td>\n",
       "      <td>1034.000000</td>\n",
       "    </tr>\n",
       "    <tr>\n",
       "      <th>mean</th>\n",
       "      <td>260.872340</td>\n",
       "      <td>833.135397</td>\n",
       "      <td>41.327853</td>\n",
       "      <td>30.250484</td>\n",
       "      <td>278.160529</td>\n",
       "      <td>279.054454</td>\n",
       "      <td>53.635493</td>\n",
       "      <td>10.616814</td>\n",
       "    </tr>\n",
       "    <tr>\n",
       "      <th>std</th>\n",
       "      <td>152.515542</td>\n",
       "      <td>763.499283</td>\n",
       "      <td>12.466329</td>\n",
       "      <td>20.927342</td>\n",
       "      <td>58.572159</td>\n",
       "      <td>59.052299</td>\n",
       "      <td>36.166043</td>\n",
       "      <td>2.235579</td>\n",
       "    </tr>\n",
       "    <tr>\n",
       "      <th>min</th>\n",
       "      <td>1.000000</td>\n",
       "      <td>1.000000</td>\n",
       "      <td>13.000000</td>\n",
       "      <td>1.000000</td>\n",
       "      <td>147.876500</td>\n",
       "      <td>147.891667</td>\n",
       "      <td>0.000000</td>\n",
       "      <td>5.644141</td>\n",
       "    </tr>\n",
       "    <tr>\n",
       "      <th>25%</th>\n",
       "      <td>130.000000</td>\n",
       "      <td>430.250000</td>\n",
       "      <td>31.000000</td>\n",
       "      <td>12.250000</td>\n",
       "      <td>235.323250</td>\n",
       "      <td>235.769458</td>\n",
       "      <td>22.160000</td>\n",
       "      <td>8.981803</td>\n",
       "    </tr>\n",
       "    <tr>\n",
       "      <th>50%</th>\n",
       "      <td>259.000000</td>\n",
       "      <td>773.500000</td>\n",
       "      <td>40.000000</td>\n",
       "      <td>27.000000</td>\n",
       "      <td>270.533500</td>\n",
       "      <td>271.499583</td>\n",
       "      <td>48.320000</td>\n",
       "      <td>10.325706</td>\n",
       "    </tr>\n",
       "    <tr>\n",
       "      <th>75%</th>\n",
       "      <td>388.000000</td>\n",
       "      <td>1113.750000</td>\n",
       "      <td>51.000000</td>\n",
       "      <td>45.000000</td>\n",
       "      <td>314.664333</td>\n",
       "      <td>315.965833</td>\n",
       "      <td>82.325000</td>\n",
       "      <td>12.010089</td>\n",
       "    </tr>\n",
       "    <tr>\n",
       "      <th>max</th>\n",
       "      <td>561.000000</td>\n",
       "      <td>7012.000000</td>\n",
       "      <td>80.000000</td>\n",
       "      <td>89.000000</td>\n",
       "      <td>472.856333</td>\n",
       "      <td>473.926167</td>\n",
       "      <td>178.840000</td>\n",
       "      <td>18.047952</td>\n",
       "    </tr>\n",
       "  </tbody>\n",
       "</table>\n",
       "</div>"
      ],
      "text/plain": [
       "             Place       Bib_No          Age  Age_Group_Place  \\\n",
       "count  1034.000000  1034.000000  1034.000000      1034.000000   \n",
       "mean    260.872340   833.135397    41.327853        30.250484   \n",
       "std     152.515542   763.499283    12.466329        20.927342   \n",
       "min       1.000000     1.000000    13.000000         1.000000   \n",
       "25%     130.000000   430.250000    31.000000        12.250000   \n",
       "50%     259.000000   773.500000    40.000000        27.000000   \n",
       "75%     388.000000  1113.750000    51.000000        45.000000   \n",
       "max     561.000000  7012.000000    80.000000        89.000000   \n",
       "\n",
       "       Chip_Time_Minutes  Gun_Time_Minutes  Chip_Diff_Seconds  Pace_Decimal  \n",
       "count        1034.000000       1034.000000        1034.000000   1034.000000  \n",
       "mean          278.160529        279.054454          53.635493     10.616814  \n",
       "std            58.572159         59.052299          36.166043      2.235579  \n",
       "min           147.876500        147.891667           0.000000      5.644141  \n",
       "25%           235.323250        235.769458          22.160000      8.981803  \n",
       "50%           270.533500        271.499583          48.320000     10.325706  \n",
       "75%           314.664333        315.965833          82.325000     12.010089  \n",
       "max           472.856333        473.926167         178.840000     18.047952  "
      ]
     },
     "execution_count": 28,
     "metadata": {},
     "output_type": "execute_result"
    }
   ],
   "source": [
    "df_full.describe()"
   ]
  },
  {
   "cell_type": "markdown",
   "metadata": {},
   "source": [
    "### Full\n",
    "**Age**\n",
    "- Min/Max: 13/80\n",
    "- Mean: 41.33\n",
    "- Std Dev: 12.47\n",
    "\n",
    "**Chip Time in Minutes**\n",
    "- Min/Max: 147.88/472.86\n",
    "- Mean: 278.16\n",
    "- Std Dev: 59.05\n",
    "\n",
    "**Pace**\n",
    "- Min/Max: 5.64/18.05\n",
    "- Mean: 10.62\n",
    "- Std Dev: 2.24"
   ]
  },
  {
   "cell_type": "code",
   "execution_count": 29,
   "metadata": {},
   "outputs": [
    {
     "data": {
      "text/html": [
       "<div>\n",
       "<style scoped>\n",
       "    .dataframe tbody tr th:only-of-type {\n",
       "        vertical-align: middle;\n",
       "    }\n",
       "\n",
       "    .dataframe tbody tr th {\n",
       "        vertical-align: top;\n",
       "    }\n",
       "\n",
       "    .dataframe thead th {\n",
       "        text-align: right;\n",
       "    }\n",
       "</style>\n",
       "<table border=\"1\" class=\"dataframe\">\n",
       "  <thead>\n",
       "    <tr style=\"text-align: right;\">\n",
       "      <th></th>\n",
       "      <th>Place</th>\n",
       "      <th>Bib_No</th>\n",
       "      <th>Age</th>\n",
       "      <th>Age_Group_Place</th>\n",
       "      <th>Chip_Time_Minutes</th>\n",
       "      <th>Gun_Time_Minutes</th>\n",
       "      <th>Chip_Diff_Seconds</th>\n",
       "      <th>Pace_Decimal</th>\n",
       "    </tr>\n",
       "  </thead>\n",
       "  <tbody>\n",
       "    <tr>\n",
       "      <th>count</th>\n",
       "      <td>2658.000000</td>\n",
       "      <td>2658.000000</td>\n",
       "      <td>2658.000000</td>\n",
       "      <td>2658.00000</td>\n",
       "      <td>2658.000000</td>\n",
       "      <td>2658.000000</td>\n",
       "      <td>2658.000000</td>\n",
       "      <td>2658.000000</td>\n",
       "    </tr>\n",
       "    <tr>\n",
       "      <th>mean</th>\n",
       "      <td>768.320166</td>\n",
       "      <td>3784.534989</td>\n",
       "      <td>41.533108</td>\n",
       "      <td>78.70316</td>\n",
       "      <td>150.649642</td>\n",
       "      <td>152.588638</td>\n",
       "      <td>116.339703</td>\n",
       "      <td>11.499973</td>\n",
       "    </tr>\n",
       "    <tr>\n",
       "      <th>std</th>\n",
       "      <td>523.361209</td>\n",
       "      <td>1017.588079</td>\n",
       "      <td>14.095374</td>\n",
       "      <td>65.97093</td>\n",
       "      <td>40.278087</td>\n",
       "      <td>41.321930</td>\n",
       "      <td>85.684305</td>\n",
       "      <td>3.074663</td>\n",
       "    </tr>\n",
       "    <tr>\n",
       "      <th>min</th>\n",
       "      <td>1.000000</td>\n",
       "      <td>732.000000</td>\n",
       "      <td>10.000000</td>\n",
       "      <td>1.00000</td>\n",
       "      <td>67.856500</td>\n",
       "      <td>67.856500</td>\n",
       "      <td>0.000000</td>\n",
       "      <td>5.179885</td>\n",
       "    </tr>\n",
       "    <tr>\n",
       "      <th>25%</th>\n",
       "      <td>333.000000</td>\n",
       "      <td>2920.250000</td>\n",
       "      <td>31.000000</td>\n",
       "      <td>26.00000</td>\n",
       "      <td>120.931167</td>\n",
       "      <td>121.994625</td>\n",
       "      <td>40.975000</td>\n",
       "      <td>9.231387</td>\n",
       "    </tr>\n",
       "    <tr>\n",
       "      <th>50%</th>\n",
       "      <td>665.000000</td>\n",
       "      <td>3772.500000</td>\n",
       "      <td>40.000000</td>\n",
       "      <td>60.00000</td>\n",
       "      <td>143.679667</td>\n",
       "      <td>145.735917</td>\n",
       "      <td>102.980000</td>\n",
       "      <td>10.967913</td>\n",
       "    </tr>\n",
       "    <tr>\n",
       "      <th>75%</th>\n",
       "      <td>1188.750000</td>\n",
       "      <td>4635.750000</td>\n",
       "      <td>52.000000</td>\n",
       "      <td>117.00000</td>\n",
       "      <td>172.899375</td>\n",
       "      <td>175.774125</td>\n",
       "      <td>182.555000</td>\n",
       "      <td>13.198426</td>\n",
       "    </tr>\n",
       "    <tr>\n",
       "      <th>max</th>\n",
       "      <td>1853.000000</td>\n",
       "      <td>7032.000000</td>\n",
       "      <td>85.000000</td>\n",
       "      <td>293.00000</td>\n",
       "      <td>395.132000</td>\n",
       "      <td>400.393500</td>\n",
       "      <td>737.910000</td>\n",
       "      <td>30.162748</td>\n",
       "    </tr>\n",
       "  </tbody>\n",
       "</table>\n",
       "</div>"
      ],
      "text/plain": [
       "             Place       Bib_No          Age  Age_Group_Place  \\\n",
       "count  2658.000000  2658.000000  2658.000000       2658.00000   \n",
       "mean    768.320166  3784.534989    41.533108         78.70316   \n",
       "std     523.361209  1017.588079    14.095374         65.97093   \n",
       "min       1.000000   732.000000    10.000000          1.00000   \n",
       "25%     333.000000  2920.250000    31.000000         26.00000   \n",
       "50%     665.000000  3772.500000    40.000000         60.00000   \n",
       "75%    1188.750000  4635.750000    52.000000        117.00000   \n",
       "max    1853.000000  7032.000000    85.000000        293.00000   \n",
       "\n",
       "       Chip_Time_Minutes  Gun_Time_Minutes  Chip_Diff_Seconds  Pace_Decimal  \n",
       "count        2658.000000       2658.000000        2658.000000   2658.000000  \n",
       "mean          150.649642        152.588638         116.339703     11.499973  \n",
       "std            40.278087         41.321930          85.684305      3.074663  \n",
       "min            67.856500         67.856500           0.000000      5.179885  \n",
       "25%           120.931167        121.994625          40.975000      9.231387  \n",
       "50%           143.679667        145.735917         102.980000     10.967913  \n",
       "75%           172.899375        175.774125         182.555000     13.198426  \n",
       "max           395.132000        400.393500         737.910000     30.162748  "
      ]
     },
     "execution_count": 29,
     "metadata": {},
     "output_type": "execute_result"
    }
   ],
   "source": [
    "df_half.describe()"
   ]
  },
  {
   "cell_type": "markdown",
   "metadata": {},
   "source": [
    "### Half\n",
    "**Age**\n",
    "- Min/Max: 10/85\n",
    "- Mean: 41.53\n",
    "- Std Dev: 14.1\n",
    "\n",
    "**Chip Time in Minutes**\n",
    "- Min/Max: 67.86/395.13\n",
    "- Mean: 150.65\n",
    "- Std Dev: 40.28\n",
    "\n",
    "**Pace**\n",
    "- Min/Max: 5.18/30.16\n",
    "- Mean: 11.5\n",
    "- Std Dev: 3.07"
   ]
  },
  {
   "cell_type": "code",
   "execution_count": 30,
   "metadata": {},
   "outputs": [
    {
     "data": {
      "text/plain": [
       "half    2658\n",
       "full    1034\n",
       "Name: Race, dtype: int64"
      ]
     },
     "execution_count": 30,
     "metadata": {},
     "output_type": "execute_result"
    }
   ],
   "source": [
    "#How many in each race?\n",
    "df_all.Race.value_counts()"
   ]
  },
  {
   "cell_type": "code",
   "execution_count": 31,
   "metadata": {
    "scrolled": true
   },
   "outputs": [
    {
     "data": {
      "text/plain": [
       "F    2326\n",
       "M    1366\n",
       "Name: Gender, dtype: int64"
      ]
     },
     "execution_count": 31,
     "metadata": {},
     "output_type": "execute_result"
    }
   ],
   "source": [
    "#Breakdown by gender?\n",
    "df_all.Gender.value_counts()"
   ]
  },
  {
   "cell_type": "code",
   "execution_count": 32,
   "metadata": {},
   "outputs": [
    {
     "data": {
      "text/plain": [
       "M    561\n",
       "F    473\n",
       "Name: Gender, dtype: int64"
      ]
     },
     "execution_count": 32,
     "metadata": {},
     "output_type": "execute_result"
    }
   ],
   "source": [
    "#Gender for full?\n",
    "df_all[df_all.Race=='full'].Gender.value_counts()"
   ]
  },
  {
   "cell_type": "code",
   "execution_count": 33,
   "metadata": {},
   "outputs": [
    {
     "data": {
      "text/plain": [
       "F    1853\n",
       "M     805\n",
       "Name: Gender, dtype: int64"
      ]
     },
     "execution_count": 33,
     "metadata": {},
     "output_type": "execute_result"
    }
   ],
   "source": [
    "#Gender for half?\n",
    "df_all[df_all.Race=='half'].Gender.value_counts()"
   ]
  },
  {
   "cell_type": "markdown",
   "metadata": {},
   "source": [
    "Interesting. The full marathon is \"roughly\" 50/50 men to women. The half is greatly skewed to women."
   ]
  },
  {
   "cell_type": "code",
   "execution_count": 34,
   "metadata": {},
   "outputs": [
    {
     "data": {
      "text/plain": [
       "Age_Group  Gender\n",
       " 1-19      F         4.458812\n",
       "           M         3.878442\n",
       "20-24      F         4.347842\n",
       "           M         4.216637\n",
       "25-29      F         4.553886\n",
       "           M         4.154031\n",
       "30-34      F         4.702098\n",
       "           M         4.031711\n",
       "35-39      F         4.719849\n",
       "           M         4.291318\n",
       "40-44      F         4.755633\n",
       "           M         4.142777\n",
       "45-49      F         5.018312\n",
       "           M         4.564246\n",
       "50-54      F         5.393816\n",
       "           M         4.670256\n",
       "55-59      F         5.288266\n",
       "           M         4.944000\n",
       "60-64      F         5.523234\n",
       "           M         5.016582\n",
       "65-69      F         5.818094\n",
       "           M         5.065590\n",
       "70-74      F         6.375483\n",
       "           M         5.518641\n",
       "75-79      F         7.880939\n",
       "           M         4.621044\n",
       "80-99      M         4.528636\n",
       "Name: Chip_Time_Minutes, dtype: float64"
      ]
     },
     "execution_count": 34,
     "metadata": {},
     "output_type": "execute_result"
    }
   ],
   "source": [
    "#hours by age group and gender for full\n",
    "df_all[df_all.Race=='full'].groupby(['Age_Group', 'Gender'])['Chip_Time_Minutes'].mean()/60"
   ]
  },
  {
   "cell_type": "code",
   "execution_count": 35,
   "metadata": {},
   "outputs": [
    {
     "data": {
      "text/plain": [
       "Age_Group  Gender\n",
       " 1-14      F         2.738334\n",
       "           M         2.332619\n",
       "15-19      F         2.327352\n",
       "           M         1.733924\n",
       "20-24      F         2.335598\n",
       "           M         1.836160\n",
       "25-29      F         2.518791\n",
       "           M         2.164842\n",
       "30-34      F         2.370338\n",
       "           M         2.048522\n",
       "35-39      F         2.475548\n",
       "           M         2.188634\n",
       "40-44      F         2.569758\n",
       "           M         2.217029\n",
       "45-49      F         2.702901\n",
       "           M         2.325477\n",
       "50-54      F         2.812339\n",
       "           M         2.364170\n",
       "55-59      F         2.850190\n",
       "           M         2.434960\n",
       "60-64      F         2.955022\n",
       "           M         2.359178\n",
       "65-69      F         3.286505\n",
       "           M         2.777554\n",
       "70-74      F         3.525606\n",
       "           M         2.958034\n",
       "75-79      F         3.372020\n",
       "           M         3.144752\n",
       "80-99      F         3.784268\n",
       "           M         3.085224\n",
       "Name: Chip_Time_Minutes, dtype: float64"
      ]
     },
     "execution_count": 35,
     "metadata": {},
     "output_type": "execute_result"
    }
   ],
   "source": [
    "#hours by age group and gender for half\n",
    "df_all[df_all.Race=='half'].groupby(['Age_Group', 'Gender'])['Chip_Time_Minutes'].mean()/60"
   ]
  },
  {
   "cell_type": "code",
   "execution_count": 36,
   "metadata": {},
   "outputs": [
    {
     "data": {
      "text/plain": [
       "Age_Group  Gender\n",
       " 1-19      F          20\n",
       "           M          14\n",
       "20-24      F           4\n",
       "           M          15\n",
       "25-29      F           1\n",
       "           M           1\n",
       "30-34      F           9\n",
       "           M           3\n",
       "35-39      F           2\n",
       "           M           2\n",
       "40-44      F           8\n",
       "           M           5\n",
       "45-49      F          48\n",
       "           M          39\n",
       "50-54      F          14\n",
       "           M          37\n",
       "55-59      F          61\n",
       "           M          91\n",
       "60-64      F          96\n",
       "           M          76\n",
       "65-69      F         161\n",
       "           M         143\n",
       "70-74      F         432\n",
       "           M         172\n",
       "75-79      F         473\n",
       "           M         359\n",
       "80-99      M         344\n",
       "Name: Place, dtype: int64"
      ]
     },
     "execution_count": 36,
     "metadata": {},
     "output_type": "execute_result"
    }
   ],
   "source": [
    "df_all[df_all.Race=='full'].groupby(['Age_Group', 'Gender'])['Place'].min()"
   ]
  },
  {
   "cell_type": "code",
   "execution_count": 37,
   "metadata": {},
   "outputs": [
    {
     "data": {
      "text/plain": [
       "Age_Group  Gender\n",
       " 1-14      F           33\n",
       "           M           93\n",
       "15-19      F            7\n",
       "           M            9\n",
       "20-24      F            1\n",
       "           M            2\n",
       "25-29      F            9\n",
       "           M            7\n",
       "30-34      F            2\n",
       "           M            8\n",
       "35-39      F            6\n",
       "           M            1\n",
       "40-44      F           20\n",
       "           M            6\n",
       "45-49      F           39\n",
       "           M           22\n",
       "50-54      F           57\n",
       "           M           28\n",
       "55-59      F          134\n",
       "           M           85\n",
       "60-64      F          158\n",
       "           M           60\n",
       "65-69      F          680\n",
       "           M           87\n",
       "70-74      F          990\n",
       "           M          223\n",
       "75-79      F          670\n",
       "           M          418\n",
       "80-99      F         1690\n",
       "           M          601\n",
       "Name: Place, dtype: int64"
      ]
     },
     "execution_count": 37,
     "metadata": {},
     "output_type": "execute_result"
    }
   ],
   "source": [
    "df_all[df_all.Race=='half'].groupby(['Age_Group', 'Gender'])['Place'].min()"
   ]
  },
  {
   "cell_type": "code",
   "execution_count": 38,
   "metadata": {},
   "outputs": [
    {
     "data": {
      "text/plain": [
       "Age_Group  Gender\n",
       " 1-19      F         10.211019\n",
       "           M          8.881928\n",
       "20-24      F          9.956889\n",
       "           M          9.656420\n",
       "25-29      F         10.428748\n",
       "           M          9.513048\n",
       "30-34      F         10.768164\n",
       "           M          9.232925\n",
       "35-39      F         10.808815\n",
       "           M          9.827445\n",
       "40-44      F         10.890762\n",
       "           M          9.487275\n",
       "45-49      F         11.492317\n",
       "           M         10.452473\n",
       "50-54      F         12.352251\n",
       "           M         10.695242\n",
       "55-59      F         12.110533\n",
       "           M         11.322138\n",
       "60-64      F         12.648626\n",
       "           M         11.488355\n",
       "65-69      F         13.323878\n",
       "           M         11.600588\n",
       "70-74      F         14.600344\n",
       "           M         12.638108\n",
       "75-79      F         18.047952\n",
       "           M         10.582545\n",
       "80-99      M         10.370922\n",
       "Name: Pace_Decimal, dtype: float64"
      ]
     },
     "execution_count": 38,
     "metadata": {},
     "output_type": "execute_result"
    }
   ],
   "source": [
    "df_all[df_all.Race=='full'].groupby(['Age_Group', 'Gender'])['Pace_Decimal'].mean()"
   ]
  },
  {
   "cell_type": "code",
   "execution_count": 39,
   "metadata": {},
   "outputs": [
    {
     "data": {
      "text/plain": [
       "Age_Group  Gender\n",
       " 1-14      F         2.777596\n",
       "           M         2.240671\n",
       "15-19      F         2.826803\n",
       "           M         1.486098\n",
       "20-24      F         2.490917\n",
       "           M         2.687055\n",
       "25-29      F         2.574310\n",
       "           M         2.541247\n",
       "30-34      F         2.567760\n",
       "           M         1.982420\n",
       "35-39      F         2.667422\n",
       "           M         2.676687\n",
       "40-44      F         3.068442\n",
       "           M         2.730167\n",
       "45-49      F         3.208180\n",
       "           M         3.324467\n",
       "50-54      F         2.881329\n",
       "           M         2.694387\n",
       "55-59      F         2.814534\n",
       "           M         2.416217\n",
       "60-64      F         2.774438\n",
       "           M         2.533408\n",
       "65-69      F         2.598027\n",
       "           M         3.878289\n",
       "70-74      F         2.665562\n",
       "           M         3.309942\n",
       "75-79      F         2.603771\n",
       "           M         2.746526\n",
       "80-99      F         0.991902\n",
       "           M         2.314819\n",
       "Name: Pace_Decimal, dtype: float64"
      ]
     },
     "execution_count": 39,
     "metadata": {},
     "output_type": "execute_result"
    }
   ],
   "source": [
    "df_all[df_all.Race=='half'].groupby(['Age_Group', 'Gender'])['Pace_Decimal'].std()"
   ]
  },
  {
   "cell_type": "code",
   "execution_count": 40,
   "metadata": {},
   "outputs": [],
   "source": [
    "#make sure we have the latest for some plotting.\n",
    "df_half = df_all[df_all.Race == 'half']\n",
    "df_full = df_all[df_all.Race == 'full']"
   ]
  },
  {
   "cell_type": "markdown",
   "metadata": {},
   "source": [
    "### Questions\n",
    "\n",
    "- What's the breakdown of gender?\n",
    "- What's the time breakdown by gender?\n",
    "- What age group performs the best?\n",
    "- Where are people coming from for the race?\n",
    "- Are the winners from nearby?"
   ]
  },
  {
   "cell_type": "markdown",
   "metadata": {},
   "source": [
    "Let's begin!\n",
    "\n",
    "### What is the breakdown of gender for each race?"
   ]
  },
  {
   "cell_type": "code",
   "execution_count": 41,
   "metadata": {},
   "outputs": [
    {
     "data": {
      "text/plain": [
       "M    561\n",
       "F    473\n",
       "Name: Gender, dtype: int64"
      ]
     },
     "execution_count": 41,
     "metadata": {},
     "output_type": "execute_result"
    }
   ],
   "source": [
    "#Gender counts for the full?\n",
    "df_full.Gender.value_counts()"
   ]
  },
  {
   "cell_type": "code",
   "execution_count": 42,
   "metadata": {},
   "outputs": [
    {
     "data": {
      "text/plain": [
       "F    1853\n",
       "M     805\n",
       "Name: Gender, dtype: int64"
      ]
     },
     "execution_count": 42,
     "metadata": {},
     "output_type": "execute_result"
    }
   ],
   "source": [
    "#Gender counts for the half?\n",
    "df_half.Gender.value_counts()"
   ]
  },
  {
   "cell_type": "markdown",
   "metadata": {},
   "source": [
    "Whoa! While the full marathon is \"roughly\" an even split, the half is heavily skewed towards females! More than twice as many!"
   ]
  },
  {
   "cell_type": "code",
   "execution_count": 43,
   "metadata": {},
   "outputs": [
    {
     "data": {
      "image/png": "[encoded data removed]",
      "text/plain": [
       "<Figure size 864x576 with 2 Axes>"
      ]
     },
     "metadata": {},
     "output_type": "display_data"
    }
   ],
   "source": [
    "#Let's plot those\n",
    "fig, axarr = plt.subplots(1, 2, figsize=(12, 8))\n",
    "plt.suptitle('Gender by Race', fontsize=20)\n",
    "\n",
    "\n",
    "df_full.Gender.value_counts().plot.bar(ax=axarr[0])\n",
    "axarr[0].set_title('Full', fontsize=18)\n",
    "\n",
    "df_half.Gender.value_counts().plot.bar(ax=axarr[1])\n",
    "axarr[1].set_title('Half', fontsize=18)\n",
    "\n",
    "plt.show();"
   ]
  },
  {
   "cell_type": "markdown",
   "metadata": {},
   "source": [
    "### What is the time breakdown by gender?"
   ]
  },
  {
   "cell_type": "code",
   "execution_count": 44,
   "metadata": {
    "scrolled": false
   },
   "outputs": [
    {
     "data": {
      "text/plain": [
       "Age_Group  Gender\n",
       " 1-19      F         4.458812\n",
       "           M         3.878442\n",
       "20-24      F         4.347842\n",
       "           M         4.216637\n",
       "25-29      F         4.553886\n",
       "           M         4.154031\n",
       "30-34      F         4.702098\n",
       "           M         4.031711\n",
       "35-39      F         4.719849\n",
       "           M         4.291318\n",
       "40-44      F         4.755633\n",
       "           M         4.142777\n",
       "45-49      F         5.018312\n",
       "           M         4.564246\n",
       "50-54      F         5.393816\n",
       "           M         4.670256\n",
       "55-59      F         5.288266\n",
       "           M         4.944000\n",
       "60-64      F         5.523234\n",
       "           M         5.016582\n",
       "65-69      F         5.818094\n",
       "           M         5.065590\n",
       "70-74      F         6.375483\n",
       "           M         5.518641\n",
       "75-79      F         7.880939\n",
       "           M         4.621044\n",
       "80-99      M         4.528636\n",
       "Name: Chip_Time_Minutes, dtype: float64"
      ]
     },
     "execution_count": 44,
     "metadata": {},
     "output_type": "execute_result"
    }
   ],
   "source": [
    "#first let's look at overall time by gender across age groups\n",
    "df_full.groupby(['Age_Group', 'Gender'])['Chip_Time_Minutes'].mean()/60"
   ]
  },
  {
   "cell_type": "code",
   "execution_count": 45,
   "metadata": {},
   "outputs": [
    {
     "data": {
      "text/plain": [
       "Age_Group  Gender\n",
       " 1-14      F         2.738334\n",
       "           M         2.332619\n",
       "15-19      F         2.327352\n",
       "           M         1.733924\n",
       "20-24      F         2.335598\n",
       "           M         1.836160\n",
       "25-29      F         2.518791\n",
       "           M         2.164842\n",
       "30-34      F         2.370338\n",
       "           M         2.048522\n",
       "35-39      F         2.475548\n",
       "           M         2.188634\n",
       "40-44      F         2.569758\n",
       "           M         2.217029\n",
       "45-49      F         2.702901\n",
       "           M         2.325477\n",
       "50-54      F         2.812339\n",
       "           M         2.364170\n",
       "55-59      F         2.850190\n",
       "           M         2.434960\n",
       "60-64      F         2.955022\n",
       "           M         2.359178\n",
       "65-69      F         3.286505\n",
       "           M         2.777554\n",
       "70-74      F         3.525606\n",
       "           M         2.958034\n",
       "75-79      F         3.372020\n",
       "           M         3.144752\n",
       "80-99      F         3.784268\n",
       "           M         3.085224\n",
       "Name: Chip_Time_Minutes, dtype: float64"
      ]
     },
     "execution_count": 45,
     "metadata": {},
     "output_type": "execute_result"
    }
   ],
   "source": [
    "df_half.groupby(['Age_Group', 'Gender'])['Chip_Time_Minutes'].mean()/60"
   ]
  },
  {
   "cell_type": "code",
   "execution_count": 46,
   "metadata": {},
   "outputs": [
    {
     "data": {
      "image/png": "[encoded data removed]",
      "text/plain": [
       "<Figure size 864x576 with 2 Axes>"
      ]
     },
     "metadata": {},
     "output_type": "display_data"
    }
   ],
   "source": [
    "#TODO Fix colors: https://python-graph-gallery.com/11-grouped-barplot/\n",
    "#Make plot more readable.\n",
    "\n",
    "#plots\n",
    "fig, axarr = plt.subplots(1, 2, figsize=(12, 8))\n",
    "plt.suptitle('Finishing Time by Race/Gender/Age Group', fontsize=20)\n",
    "\n",
    "\n",
    "(df_full.groupby(['Age_Group', 'Gender'])['Chip_Time_Minutes'].mean()/60).plot.bar(ax=axarr[0])\n",
    "axarr[0].set_title('Full', fontsize=18)\n",
    "\n",
    "(df_half.groupby(['Age_Group', 'Gender'])['Chip_Time_Minutes'].mean()/60).plot.bar(ax=axarr[1])\n",
    "axarr[1].set_title('Half', fontsize=18)\n",
    "\n",
    "plt.show();"
   ]
  },
  {
   "cell_type": "code",
   "execution_count": 47,
   "metadata": {},
   "outputs": [
    {
     "data": {
      "text/plain": [
       "Age_Group  Gender\n",
       " 1-19      F         10.211019\n",
       "           M          8.881928\n",
       "20-24      F          9.956889\n",
       "           M          9.656420\n",
       "25-29      F         10.428748\n",
       "           M          9.513048\n",
       "30-34      F         10.768164\n",
       "           M          9.232925\n",
       "35-39      F         10.808815\n",
       "           M          9.827445\n",
       "40-44      F         10.890762\n",
       "           M          9.487275\n",
       "45-49      F         11.492317\n",
       "           M         10.452473\n",
       "50-54      F         12.352251\n",
       "           M         10.695242\n",
       "55-59      F         12.110533\n",
       "           M         11.322138\n",
       "60-64      F         12.648626\n",
       "           M         11.488355\n",
       "65-69      F         13.323878\n",
       "           M         11.600588\n",
       "70-74      F         14.600344\n",
       "           M         12.638108\n",
       "75-79      F         18.047952\n",
       "           M         10.582545\n",
       "80-99      M         10.370922\n",
       "Name: Pace_Decimal, dtype: float64"
      ]
     },
     "execution_count": 47,
     "metadata": {},
     "output_type": "execute_result"
    }
   ],
   "source": [
    "#Let's do the same but by pace\n",
    "df_full.groupby(['Age_Group', 'Gender'])['Pace_Decimal'].mean()"
   ]
  },
  {
   "cell_type": "code",
   "execution_count": 48,
   "metadata": {},
   "outputs": [
    {
     "data": {
      "text/plain": [
       "Age_Group  Gender\n",
       " 1-14      F         12.541986\n",
       "           M         10.683750\n",
       "15-19      F         10.659628\n",
       "           M          7.941638\n",
       "20-24      F         10.697394\n",
       "           M          8.409891\n",
       "25-29      F         11.536446\n",
       "           M          9.915306\n",
       "30-34      F         10.856509\n",
       "           M          9.382545\n",
       "35-39      F         11.338388\n",
       "           M         10.024279\n",
       "40-44      F         11.769884\n",
       "           M         10.154331\n",
       "45-49      F         12.379701\n",
       "           M         10.651040\n",
       "50-54      F         12.880941\n",
       "           M         10.828258\n",
       "55-59      F         13.054304\n",
       "           M         11.152490\n",
       "60-64      F         13.534453\n",
       "           M         10.805397\n",
       "65-69      F         15.052694\n",
       "           M         12.721621\n",
       "70-74      F         16.147814\n",
       "           M         13.548248\n",
       "75-79      F         15.444367\n",
       "           M         14.403443\n",
       "80-99      F         17.332525\n",
       "           M         14.130797\n",
       "Name: Pace_Decimal, dtype: float64"
      ]
     },
     "execution_count": 48,
     "metadata": {},
     "output_type": "execute_result"
    }
   ],
   "source": [
    "df_half.groupby(['Age_Group', 'Gender'])['Pace_Decimal'].mean()"
   ]
  },
  {
   "cell_type": "code",
   "execution_count": 49,
   "metadata": {
    "scrolled": false
   },
   "outputs": [
    {
     "data": {
      "image/png": "[encoded data removed]",
      "text/plain": [
       "<Figure size 864x576 with 2 Axes>"
      ]
     },
     "metadata": {},
     "output_type": "display_data"
    }
   ],
   "source": [
    "#plots\n",
    "fig, axarr = plt.subplots(1, 2, figsize=(12, 8))\n",
    "plt.suptitle('Mean Pace by Race/Gender/Age Group', fontsize=20)\n",
    "\n",
    "\n",
    "(df_full.groupby(['Age_Group', 'Gender'])['Pace_Decimal'].mean()).plot.bar(ax=axarr[0])\n",
    "axarr[0].set_title('Full', fontsize=18)\n",
    "\n",
    "(df_half.groupby(['Age_Group', 'Gender'])['Pace_Decimal'].mean()).plot.bar(ax=axarr[1])\n",
    "axarr[1].set_title('Half', fontsize=18)\n",
    "\n",
    "plt.show();"
   ]
  },
  {
   "cell_type": "markdown",
   "metadata": {},
   "source": [
    "Let's clean those up a bit. All the colors are pretty distracting. Same plots below, but better colors."
   ]
  },
  {
   "cell_type": "code",
   "execution_count": 50,
   "metadata": {
    "scrolled": true
   },
   "outputs": [
    {
     "data": {
      "image/png": "[encoded data removed]",
      "text/plain": [
       "<Figure size 432x288 with 1 Axes>"
      ]
     },
     "metadata": {},
     "output_type": "display_data"
    }
   ],
   "source": [
    "#plots\n",
    " \n",
    "# set width of bar\n",
    "barWidth = 0.33\n",
    " \n",
    "# set height of bar\n",
    "bars1 = df_full[df_full.Gender == 'M'].groupby(['Age_Group'])['Pace_Decimal'].mean()\n",
    "bars2 = df_full[df_full.Gender == 'F'].groupby(['Age_Group'])['Pace_Decimal'].mean()\n",
    "#add a 0 for a missing value\n",
    "bars2['80-99'] = 0\n",
    " \n",
    "# Set position of bar on X axis\n",
    "r1 = np.arange(len(bars1))\n",
    "r2 = [x + barWidth for x in r1]\n",
    "\n",
    " \n",
    "# Make the plot\n",
    "plt.bar(r1, bars1, color='#7f6d5f', width=barWidth, edgecolor='white', label='Male')\n",
    "plt.bar(r2, bars2, color='#557f2d', width=barWidth, edgecolor='white', label='Female')\n",
    " \n",
    "# Add xticks on the middle of the group bars\n",
    "plt.xlabel('group', fontweight='bold',)\n",
    "plt.xticks([r + barWidth for r in range(len(bars1))], ['1-19','20-24','25-29','30-34','35-39','40-44','45-49','50-54','55-59','60-64','65-69','70-74','75-79','80-99' ], rotation=90)\n",
    " \n",
    "# Create legend & Show graphic\n",
    "plt.legend()\n",
    "plt.show();\n"
   ]
  },
  {
   "cell_type": "code",
   "execution_count": 51,
   "metadata": {},
   "outputs": [
    {
     "data": {
      "image/png": "[encoded data removed]",
      "text/plain": [
       "<Figure size 432x288 with 1 Axes>"
      ]
     },
     "metadata": {},
     "output_type": "display_data"
    }
   ],
   "source": [
    "#plots\n",
    " \n",
    "# set width of bar\n",
    "barWidth = 0.33\n",
    " \n",
    "# set height of bar\n",
    "bars1 = df_half[df_half.Gender == 'M'].groupby(['Age_Group'])['Pace_Decimal'].mean()\n",
    "bars2 = df_half[df_half.Gender == 'F'].groupby(['Age_Group'])['Pace_Decimal'].mean()\n",
    "\n",
    "\n",
    " \n",
    "# Set position of bar on X axis\n",
    "r1 = np.arange(len(bars1))\n",
    "r2 = [x + barWidth for x in r1]\n",
    "\n",
    " \n",
    "# Make the plot\n",
    "plt.bar(r1, bars1, color='#7f6d5f', width=barWidth, edgecolor='white', label='Male')\n",
    "plt.bar(r2, bars2, color='#557f2d', width=barWidth, edgecolor='white', label='Female')\n",
    " \n",
    "# Add xticks on the middle of the group bars\n",
    "plt.xlabel('group', fontweight='bold',)\n",
    "plt.xticks([r + barWidth for r in range(len(bars1))], ['1-14','15-19','20-24','25-29','30-34','35-39','40-44','45-49','50-54','55-59','60-64','65-69','70-74','75-79','80-99'], rotation=90)\n",
    " \n",
    "# Create legend & Show graphic\n",
    "plt.legend()\n",
    "plt.show();"
   ]
  },
  {
   "cell_type": "markdown",
   "metadata": {},
   "source": [
    "Interesting. In all cases, men have a faster mean pace/finish time than women of the same age group. This is somewhat intuitive, but I was curious if at older ages this started to change."
   ]
  },
  {
   "cell_type": "markdown",
   "metadata": {},
   "source": [
    "### What age group(s) perform best for each race?"
   ]
  },
  {
   "cell_type": "code",
   "execution_count": 52,
   "metadata": {
    "scrolled": false
   },
   "outputs": [
    {
     "data": {
      "image/png": "[encoded data removed]",
      "text/plain": [
       "<Figure size 864x576 with 4 Axes>"
      ]
     },
     "metadata": {},
     "output_type": "display_data"
    }
   ],
   "source": [
    "fig, axarr = plt.subplots(2, 2, figsize=(12, 8))\n",
    "plt.suptitle('Mean Pace by Race/Gender/Age Group', fontsize=20)\n",
    "plt.subplots_adjust(hspace = 0.5)\n",
    "\n",
    "(df_full[df_full.Gender == 'M'].groupby(['Age_Group'])['Pace_Decimal'].mean()).plot.bar(ax=axarr[0][0])\n",
    "axarr[0][0].set_title('Full - Male', fontsize=18)\n",
    "\n",
    "(df_full[df_full.Gender == 'F'].groupby(['Age_Group'])['Pace_Decimal'].mean()).plot.bar(ax=axarr[0][1])\n",
    "axarr[0][1].set_title('Full - Female', fontsize=18)\n",
    "\n",
    "\n",
    "(df_half[df_half.Gender == 'M'].groupby(['Age_Group'])['Pace_Decimal'].mean()).plot.bar(ax=axarr[1][0])\n",
    "axarr[1][0].set_title('Half - Male', fontsize=18)\n",
    "\n",
    "(df_half[df_half.Gender == 'F'].groupby(['Age_Group'])['Pace_Decimal'].mean()).plot.bar(ax=axarr[1][1])\n",
    "axarr[1][1].set_title('Half - Female', fontsize=18)\n",
    "\n",
    "plt.show();"
   ]
  },
  {
   "cell_type": "markdown",
   "metadata": {},
   "source": [
    "There is a basic trend to for younger runners to be faster than older runners, but with a few notable exceptions. First, in the half, the 1-14 is slower than the 15-19 group (incidentally, the 15-19 group looks to be the fastest for the half for both genders. Apparently the half is a young person's race!). For the full, the 1-19 on average are fastest for men, with a noticable dip again at 30-34 and starting at 75-79. Women have a pretty standard increase as ages go up but with 20-24 and 55-59 being slightly below the curve."
   ]
  },
  {
   "cell_type": "markdown",
   "metadata": {},
   "source": [
    "### Where are people coming from for the race?"
   ]
  },
  {
   "cell_type": "code",
   "execution_count": 53,
   "metadata": {},
   "outputs": [
    {
     "data": {
      "text/plain": [
       "Missoula  MT US          178\n",
       "Spokane  WA US            44\n",
       "Billings  MT US           22\n",
       "Helena  MT US             18\n",
       "New York  NY US           13\n",
       "Portland  OR US           12\n",
       "Dallas  TX US             11\n",
       "Bozeman  MT US            11\n",
       "Seattle  WA US            11\n",
       "Great Falls  MT US        10\n",
       "Kalispell  MT US           9\n",
       "Coeur D Alene  ID US       9\n",
       "Houston  TX US             7\n",
       "Chicago  IL US             7\n",
       "Salt Lake City  UT US      7\n",
       "Hamilton  MT US            6\n",
       "Calgary  AB CA             5\n",
       "Austin  TX US              5\n",
       "Butte  MT US               5\n",
       "Lolo  MT US                4\n",
       "Name: City, dtype: int64"
      ]
     },
     "execution_count": 53,
     "metadata": {},
     "output_type": "execute_result"
    }
   ],
   "source": [
    "#Top locations by counts\n",
    "df_full.City.value_counts()[:20]"
   ]
  },
  {
   "cell_type": "code",
   "execution_count": 54,
   "metadata": {},
   "outputs": [
    {
     "data": {
      "text/plain": [
       "Missoula  MT US          739\n",
       "Spokane  WA US           124\n",
       "Helena  MT US             62\n",
       "Billings  MT US           54\n",
       "Great Falls  MT US        54\n",
       "Bozeman  MT US            44\n",
       "Kalispell  MT US          42\n",
       "Lolo  MT US               36\n",
       "Coeur D Alene  ID US      34\n",
       "Seattle  WA US            34\n",
       "Florence  MT US           28\n",
       "Whitefish  MT US          27\n",
       "Butte  MT US              26\n",
       "Stevensville  MT US       25\n",
       "Portland  OR US           23\n",
       "Polson  MT US             16\n",
       "Bigfork  MT US            16\n",
       "Red Deer  AB CA           15\n",
       "Frenchtown  MT US         14\n",
       "Spokane Valley  WA US     14\n",
       "Name: City, dtype: int64"
      ]
     },
     "execution_count": 54,
     "metadata": {},
     "output_type": "execute_result"
    }
   ],
   "source": [
    "#Top locations by counts\n",
    "df_half.City.value_counts()[:20]"
   ]
  },
  {
   "cell_type": "markdown",
   "metadata": {},
   "source": [
    "### Does location determine the winners? Are winners from nearby?"
   ]
  },
  {
   "cell_type": "code",
   "execution_count": 55,
   "metadata": {},
   "outputs": [
    {
     "data": {
      "text/plain": [
       "Missoula  MT US         7\n",
       "Helena  MT US           2\n",
       "Billings  MT US         1\n",
       "Tucson  AZ US           1\n",
       "Orrville  OH US         1\n",
       "Santa Fe  NM US         1\n",
       "Saint Paul  MN US       1\n",
       "Cheney  MT US           1\n",
       "Polson  MT US           1\n",
       "Charlotte  NC US        1\n",
       "Stevensville  MT US     1\n",
       "Coeur D Alene  ID US    1\n",
       "Great Falls  MT US      1\n",
       "Name: City, dtype: int64"
      ]
     },
     "execution_count": 55,
     "metadata": {},
     "output_type": "execute_result"
    }
   ],
   "source": [
    "#Top 10 M/F finisher cities for the full\n",
    "df_full[df_full.Place <= 10]['City'].value_counts()"
   ]
  },
  {
   "cell_type": "code",
   "execution_count": 56,
   "metadata": {},
   "outputs": [
    {
     "data": {
      "text/plain": [
       "Seattle  WA US             2\n",
       "Bozeman  MT US             2\n",
       "Issaquah  WA US            1\n",
       "Pocatello  ID US           1\n",
       "Great Falls  MT US         1\n",
       "Bigfork  MT US             1\n",
       "Clearfield  UT US          1\n",
       "Lakewood  CO US            1\n",
       "Goshen  NY US              1\n",
       "Estes Park  CO US          1\n",
       "Missoula  MT US            1\n",
       "Watertown  MA US           1\n",
       "Colorado Springs  CO US    1\n",
       "Pueblo  CO US              1\n",
       "Lakeside  MT US            1\n",
       "Larkspur  CO US            1\n",
       "Paso Robles  CA US         1\n",
       "Spokane  WA US             1\n",
       "Name: City, dtype: int64"
      ]
     },
     "execution_count": 56,
     "metadata": {},
     "output_type": "execute_result"
    }
   ],
   "source": [
    "#Top 10 M/F finisher cities for the half\n",
    "df_half[df_half.Place <= 10]['City'].value_counts()"
   ]
  },
  {
   "cell_type": "markdown",
   "metadata": {},
   "source": [
    "So for the full (male and female), there are 12/20 top finishers from within about a 3 hour radius (Missoula, Helena, Polson, Stevensville, and Coeur D Alene) with Missoula having the most at 7.\n",
    "\n",
    "For the half, only 2/20 top finisher fell within that same three hour radius. Missoula has 1 top finisher and Bigfork has 1.\n",
    "\n",
    "So for the full, 60% of top 10 finishers were fairly local. The half saw a lot more top finishers coming from farther away with only 10% coming from less than 3 hours away. Perhaps the half is seen as more \"fun\" so people are coming from farther away and treating the race as a bit of a vacation?"
   ]
  },
  {
   "cell_type": "code",
   "execution_count": 57,
   "metadata": {},
   "outputs": [
    {
     "data": {
      "text/plain": [
       "493"
      ]
     },
     "execution_count": 57,
     "metadata": {},
     "output_type": "execute_result"
    }
   ],
   "source": [
    "len(df_full.City.unique())"
   ]
  },
  {
   "cell_type": "code",
   "execution_count": 58,
   "metadata": {},
   "outputs": [
    {
     "data": {
      "text/plain": [
       "665"
      ]
     },
     "execution_count": 58,
     "metadata": {},
     "output_type": "execute_result"
    }
   ],
   "source": [
    "len(df_half.City.unique())"
   ]
  },
  {
   "cell_type": "markdown",
   "metadata": {},
   "source": [
    "There are 493 unique cities for the full and 665 for the half. The half has 170+ more unique locations, as well has a significantly higher number of runners. Doubling the distance of the run has a clear affect on participation."
   ]
  }
 ],
 "metadata": {
  "kernelspec": {
   "display_name": "Python 3",
   "language": "python",
   "name": "python3"
  },
  "language_info": {
   "codemirror_mode": {
    "name": "ipython",
    "version": 3
   },
   "file_extension": ".py",
   "mimetype": "text/x-python",
   "name": "python",
   "nbconvert_exporter": "python",
   "pygments_lexer": "ipython3",
   "version": "3.6.6"
  }
 },
 "nbformat": 4,
 "nbformat_minor": 2
}
